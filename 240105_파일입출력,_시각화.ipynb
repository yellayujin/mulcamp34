{
  "cells": [
    {
      "cell_type": "markdown",
      "metadata": {
        "id": "view-in-github",
        "colab_type": "text"
      },
      "source": [
        "<a href=\"https://colab.research.google.com/github/yellayujin/mulcamp34/blob/main/240105_%ED%8C%8C%EC%9D%BC%EC%9E%85%EC%B6%9C%EB%A0%A5%2C_%EC%8B%9C%EA%B0%81%ED%99%94.ipynb\" target=\"_parent\"><img src=\"https://colab.research.google.com/assets/colab-badge.svg\" alt=\"Open In Colab\"/></a>"
      ]
    },
    {
      "cell_type": "markdown",
      "id": "54e08cf2-b64a-45d5-9536-bd3ea0989429",
      "metadata": {
        "id": "54e08cf2-b64a-45d5-9536-bd3ea0989429"
      },
      "source": [
        "2월 중 캐글\n",
        "https://www.kaggle.com/competitions/playground-series-s4e1\n",
        "EDA, Pandas 등 (캐글 연습)은 여기 데이터로 할 예정.(다다음주쯤? 15일 언저리)"
      ]
    },
    {
      "cell_type": "markdown",
      "source": [
        "## 구글코랩에서 입출력\n"
      ],
      "metadata": {
        "id": "Xs-nprzA2knh"
      },
      "id": "Xs-nprzA2knh"
    },
    {
      "cell_type": "code",
      "source": [
        "# 구글 코랩과 구글 드라이브 연동\n",
        "from google.colab import drive\n",
        "drive.mount('/content/drive')"
      ],
      "metadata": {
        "colab": {
          "base_uri": "https://localhost:8080/",
          "height": 373
        },
        "id": "QSp4NVKX2rIp",
        "outputId": "5c2e7428-96b6-46e4-83bb-3a5384abff68"
      },
      "id": "QSp4NVKX2rIp",
      "execution_count": null,
      "outputs": [
        {
          "output_type": "error",
          "ename": "MessageError",
          "evalue": "Error: credential propagation was unsuccessful",
          "traceback": [
            "\u001b[0;31m---------------------------------------------------------------------------\u001b[0m",
            "\u001b[0;31mMessageError\u001b[0m                              Traceback (most recent call last)",
            "\u001b[0;32m<ipython-input-1-e9327eac8035>\u001b[0m in \u001b[0;36m<cell line: 3>\u001b[0;34m()\u001b[0m\n\u001b[1;32m      1\u001b[0m \u001b[0;31m# 구글 코랩과 구글 드라이브 연동\u001b[0m\u001b[0;34m\u001b[0m\u001b[0;34m\u001b[0m\u001b[0m\n\u001b[1;32m      2\u001b[0m \u001b[0;32mfrom\u001b[0m \u001b[0mgoogle\u001b[0m\u001b[0;34m.\u001b[0m\u001b[0mcolab\u001b[0m \u001b[0;32mimport\u001b[0m \u001b[0mdrive\u001b[0m\u001b[0;34m\u001b[0m\u001b[0;34m\u001b[0m\u001b[0m\n\u001b[0;32m----> 3\u001b[0;31m \u001b[0mdrive\u001b[0m\u001b[0;34m.\u001b[0m\u001b[0mmount\u001b[0m\u001b[0;34m(\u001b[0m\u001b[0;34m'/content/drive'\u001b[0m\u001b[0;34m)\u001b[0m\u001b[0;34m\u001b[0m\u001b[0;34m\u001b[0m\u001b[0m\n\u001b[0m",
            "\u001b[0;32m/usr/local/lib/python3.10/dist-packages/google/colab/drive.py\u001b[0m in \u001b[0;36mmount\u001b[0;34m(mountpoint, force_remount, timeout_ms, readonly)\u001b[0m\n\u001b[1;32m     98\u001b[0m \u001b[0;32mdef\u001b[0m \u001b[0mmount\u001b[0m\u001b[0;34m(\u001b[0m\u001b[0mmountpoint\u001b[0m\u001b[0;34m,\u001b[0m \u001b[0mforce_remount\u001b[0m\u001b[0;34m=\u001b[0m\u001b[0;32mFalse\u001b[0m\u001b[0;34m,\u001b[0m \u001b[0mtimeout_ms\u001b[0m\u001b[0;34m=\u001b[0m\u001b[0;36m120000\u001b[0m\u001b[0;34m,\u001b[0m \u001b[0mreadonly\u001b[0m\u001b[0;34m=\u001b[0m\u001b[0;32mFalse\u001b[0m\u001b[0;34m)\u001b[0m\u001b[0;34m:\u001b[0m\u001b[0;34m\u001b[0m\u001b[0;34m\u001b[0m\u001b[0m\n\u001b[1;32m     99\u001b[0m   \u001b[0;34m\"\"\"Mount your Google Drive at the specified mountpoint path.\"\"\"\u001b[0m\u001b[0;34m\u001b[0m\u001b[0;34m\u001b[0m\u001b[0m\n\u001b[0;32m--> 100\u001b[0;31m   return _mount(\n\u001b[0m\u001b[1;32m    101\u001b[0m       \u001b[0mmountpoint\u001b[0m\u001b[0;34m,\u001b[0m\u001b[0;34m\u001b[0m\u001b[0;34m\u001b[0m\u001b[0m\n\u001b[1;32m    102\u001b[0m       \u001b[0mforce_remount\u001b[0m\u001b[0;34m=\u001b[0m\u001b[0mforce_remount\u001b[0m\u001b[0;34m,\u001b[0m\u001b[0;34m\u001b[0m\u001b[0;34m\u001b[0m\u001b[0m\n",
            "\u001b[0;32m/usr/local/lib/python3.10/dist-packages/google/colab/drive.py\u001b[0m in \u001b[0;36m_mount\u001b[0;34m(mountpoint, force_remount, timeout_ms, ephemeral, readonly)\u001b[0m\n\u001b[1;32m    127\u001b[0m   )\n\u001b[1;32m    128\u001b[0m   \u001b[0;32mif\u001b[0m \u001b[0mephemeral\u001b[0m\u001b[0;34m:\u001b[0m\u001b[0;34m\u001b[0m\u001b[0;34m\u001b[0m\u001b[0m\n\u001b[0;32m--> 129\u001b[0;31m     _message.blocking_request(\n\u001b[0m\u001b[1;32m    130\u001b[0m         \u001b[0;34m'request_auth'\u001b[0m\u001b[0;34m,\u001b[0m \u001b[0mrequest\u001b[0m\u001b[0;34m=\u001b[0m\u001b[0;34m{\u001b[0m\u001b[0;34m'authType'\u001b[0m\u001b[0;34m:\u001b[0m \u001b[0;34m'dfs_ephemeral'\u001b[0m\u001b[0;34m}\u001b[0m\u001b[0;34m,\u001b[0m \u001b[0mtimeout_sec\u001b[0m\u001b[0;34m=\u001b[0m\u001b[0;32mNone\u001b[0m\u001b[0;34m\u001b[0m\u001b[0;34m\u001b[0m\u001b[0m\n\u001b[1;32m    131\u001b[0m     )\n",
            "\u001b[0;32m/usr/local/lib/python3.10/dist-packages/google/colab/_message.py\u001b[0m in \u001b[0;36mblocking_request\u001b[0;34m(request_type, request, timeout_sec, parent)\u001b[0m\n\u001b[1;32m    174\u001b[0m       \u001b[0mrequest_type\u001b[0m\u001b[0;34m,\u001b[0m \u001b[0mrequest\u001b[0m\u001b[0;34m,\u001b[0m \u001b[0mparent\u001b[0m\u001b[0;34m=\u001b[0m\u001b[0mparent\u001b[0m\u001b[0;34m,\u001b[0m \u001b[0mexpect_reply\u001b[0m\u001b[0;34m=\u001b[0m\u001b[0;32mTrue\u001b[0m\u001b[0;34m\u001b[0m\u001b[0;34m\u001b[0m\u001b[0m\n\u001b[1;32m    175\u001b[0m   )\n\u001b[0;32m--> 176\u001b[0;31m   \u001b[0;32mreturn\u001b[0m \u001b[0mread_reply_from_input\u001b[0m\u001b[0;34m(\u001b[0m\u001b[0mrequest_id\u001b[0m\u001b[0;34m,\u001b[0m \u001b[0mtimeout_sec\u001b[0m\u001b[0;34m)\u001b[0m\u001b[0;34m\u001b[0m\u001b[0;34m\u001b[0m\u001b[0m\n\u001b[0m",
            "\u001b[0;32m/usr/local/lib/python3.10/dist-packages/google/colab/_message.py\u001b[0m in \u001b[0;36mread_reply_from_input\u001b[0;34m(message_id, timeout_sec)\u001b[0m\n\u001b[1;32m    101\u001b[0m     ):\n\u001b[1;32m    102\u001b[0m       \u001b[0;32mif\u001b[0m \u001b[0;34m'error'\u001b[0m \u001b[0;32min\u001b[0m \u001b[0mreply\u001b[0m\u001b[0;34m:\u001b[0m\u001b[0;34m\u001b[0m\u001b[0;34m\u001b[0m\u001b[0m\n\u001b[0;32m--> 103\u001b[0;31m         \u001b[0;32mraise\u001b[0m \u001b[0mMessageError\u001b[0m\u001b[0;34m(\u001b[0m\u001b[0mreply\u001b[0m\u001b[0;34m[\u001b[0m\u001b[0;34m'error'\u001b[0m\u001b[0;34m]\u001b[0m\u001b[0;34m)\u001b[0m\u001b[0;34m\u001b[0m\u001b[0;34m\u001b[0m\u001b[0m\n\u001b[0m\u001b[1;32m    104\u001b[0m       \u001b[0;32mreturn\u001b[0m \u001b[0mreply\u001b[0m\u001b[0;34m.\u001b[0m\u001b[0mget\u001b[0m\u001b[0;34m(\u001b[0m\u001b[0;34m'data'\u001b[0m\u001b[0;34m,\u001b[0m \u001b[0;32mNone\u001b[0m\u001b[0;34m)\u001b[0m\u001b[0;34m\u001b[0m\u001b[0;34m\u001b[0m\u001b[0m\n\u001b[1;32m    105\u001b[0m \u001b[0;34m\u001b[0m\u001b[0m\n",
            "\u001b[0;31mMessageError\u001b[0m: Error: credential propagation was unsuccessful"
          ]
        }
      ]
    },
    {
      "cell_type": "code",
      "source": [
        "import pandas as pd\n",
        "path = '/content/drive/MyDrive/Colab Notebooks/멀티캠퍼스34/playground-series-s4e1/'\n",
        "train = pd.read_csv(path + 'train.csv')\n",
        "train"
      ],
      "metadata": {
        "id": "IHUYpyi_2tQ3"
      },
      "id": "IHUYpyi_2tQ3",
      "execution_count": null,
      "outputs": []
    },
    {
      "cell_type": "markdown",
      "id": "21d8f758-c60d-410c-af2a-cdea47dcd578",
      "metadata": {
        "id": "21d8f758-c60d-410c-af2a-cdea47dcd578"
      },
      "source": [
        "## 주피터랩 입출력\n",
        "IO tools(데이터 타입 참고): https://pandas.pydata.org/pandas-docs/stable/user_guide/io.html"
      ]
    },
    {
      "cell_type": "code",
      "execution_count": null,
      "id": "8fa089e0-32fb-4d60-8fe9-d29989fd38e5",
      "metadata": {
        "id": "8fa089e0-32fb-4d60-8fe9-d29989fd38e5"
      },
      "outputs": [],
      "source": [
        "# 주피터랩에서 파일 입출력\n",
        "import pandas as pd\n",
        "\n",
        "PATH = 'playground-series-s4e1/'    # 반복되니까\n",
        "train = pd.read_csv(PATH + 'train.csv', index_col = 'id')\n",
        "test = pd.read_csv(PATH + 'test.csv', index_col = 'id')"
      ]
    },
    {
      "cell_type": "code",
      "execution_count": null,
      "id": "9ada998c-208f-45a7-9630-f3c6f4c98876",
      "metadata": {
        "id": "9ada998c-208f-45a7-9630-f3c6f4c98876",
        "outputId": "9f0d6fe0-e25c-4a2e-ffa7-527e0830c085"
      },
      "outputs": [
        {
          "data": {
            "text/html": [
              "<div>\n",
              "<style scoped>\n",
              "    .dataframe tbody tr th:only-of-type {\n",
              "        vertical-align: middle;\n",
              "    }\n",
              "\n",
              "    .dataframe tbody tr th {\n",
              "        vertical-align: top;\n",
              "    }\n",
              "\n",
              "    .dataframe thead th {\n",
              "        text-align: right;\n",
              "    }\n",
              "</style>\n",
              "<table border=\"1\" class=\"dataframe\">\n",
              "  <thead>\n",
              "    <tr style=\"text-align: right;\">\n",
              "      <th></th>\n",
              "      <th>CustomerId</th>\n",
              "      <th>Surname</th>\n",
              "      <th>CreditScore</th>\n",
              "      <th>Geography</th>\n",
              "      <th>Gender</th>\n",
              "      <th>Age</th>\n",
              "      <th>Tenure</th>\n",
              "      <th>Balance</th>\n",
              "      <th>NumOfProducts</th>\n",
              "      <th>HasCrCard</th>\n",
              "      <th>IsActiveMember</th>\n",
              "      <th>EstimatedSalary</th>\n",
              "      <th>Exited</th>\n",
              "    </tr>\n",
              "    <tr>\n",
              "      <th>id</th>\n",
              "      <th></th>\n",
              "      <th></th>\n",
              "      <th></th>\n",
              "      <th></th>\n",
              "      <th></th>\n",
              "      <th></th>\n",
              "      <th></th>\n",
              "      <th></th>\n",
              "      <th></th>\n",
              "      <th></th>\n",
              "      <th></th>\n",
              "      <th></th>\n",
              "      <th></th>\n",
              "    </tr>\n",
              "  </thead>\n",
              "  <tbody>\n",
              "    <tr>\n",
              "      <th>0</th>\n",
              "      <td>15674932</td>\n",
              "      <td>Okwudilichukwu</td>\n",
              "      <td>668</td>\n",
              "      <td>France</td>\n",
              "      <td>Male</td>\n",
              "      <td>33.0</td>\n",
              "      <td>3</td>\n",
              "      <td>0.00</td>\n",
              "      <td>2</td>\n",
              "      <td>1.0</td>\n",
              "      <td>0.0</td>\n",
              "      <td>181449.97</td>\n",
              "      <td>0</td>\n",
              "    </tr>\n",
              "    <tr>\n",
              "      <th>1</th>\n",
              "      <td>15749177</td>\n",
              "      <td>Okwudiliolisa</td>\n",
              "      <td>627</td>\n",
              "      <td>France</td>\n",
              "      <td>Male</td>\n",
              "      <td>33.0</td>\n",
              "      <td>1</td>\n",
              "      <td>0.00</td>\n",
              "      <td>2</td>\n",
              "      <td>1.0</td>\n",
              "      <td>1.0</td>\n",
              "      <td>49503.50</td>\n",
              "      <td>0</td>\n",
              "    </tr>\n",
              "    <tr>\n",
              "      <th>2</th>\n",
              "      <td>15694510</td>\n",
              "      <td>Hsueh</td>\n",
              "      <td>678</td>\n",
              "      <td>France</td>\n",
              "      <td>Male</td>\n",
              "      <td>40.0</td>\n",
              "      <td>10</td>\n",
              "      <td>0.00</td>\n",
              "      <td>2</td>\n",
              "      <td>1.0</td>\n",
              "      <td>0.0</td>\n",
              "      <td>184866.69</td>\n",
              "      <td>0</td>\n",
              "    </tr>\n",
              "    <tr>\n",
              "      <th>3</th>\n",
              "      <td>15741417</td>\n",
              "      <td>Kao</td>\n",
              "      <td>581</td>\n",
              "      <td>France</td>\n",
              "      <td>Male</td>\n",
              "      <td>34.0</td>\n",
              "      <td>2</td>\n",
              "      <td>148882.54</td>\n",
              "      <td>1</td>\n",
              "      <td>1.0</td>\n",
              "      <td>1.0</td>\n",
              "      <td>84560.88</td>\n",
              "      <td>0</td>\n",
              "    </tr>\n",
              "    <tr>\n",
              "      <th>4</th>\n",
              "      <td>15766172</td>\n",
              "      <td>Chiemenam</td>\n",
              "      <td>716</td>\n",
              "      <td>Spain</td>\n",
              "      <td>Male</td>\n",
              "      <td>33.0</td>\n",
              "      <td>5</td>\n",
              "      <td>0.00</td>\n",
              "      <td>2</td>\n",
              "      <td>1.0</td>\n",
              "      <td>1.0</td>\n",
              "      <td>15068.83</td>\n",
              "      <td>0</td>\n",
              "    </tr>\n",
              "  </tbody>\n",
              "</table>\n",
              "</div>"
            ],
            "text/plain": [
              "    CustomerId         Surname  CreditScore Geography Gender   Age  Tenure  \\\n",
              "id                                                                           \n",
              "0     15674932  Okwudilichukwu          668    France   Male  33.0       3   \n",
              "1     15749177   Okwudiliolisa          627    France   Male  33.0       1   \n",
              "2     15694510           Hsueh          678    France   Male  40.0      10   \n",
              "3     15741417             Kao          581    France   Male  34.0       2   \n",
              "4     15766172       Chiemenam          716     Spain   Male  33.0       5   \n",
              "\n",
              "      Balance  NumOfProducts  HasCrCard  IsActiveMember  EstimatedSalary  \\\n",
              "id                                                                         \n",
              "0        0.00              2        1.0             0.0        181449.97   \n",
              "1        0.00              2        1.0             1.0         49503.50   \n",
              "2        0.00              2        1.0             0.0        184866.69   \n",
              "3   148882.54              1        1.0             1.0         84560.88   \n",
              "4        0.00              2        1.0             1.0         15068.83   \n",
              "\n",
              "    Exited  \n",
              "id          \n",
              "0        0  \n",
              "1        0  \n",
              "2        0  \n",
              "3        0  \n",
              "4        0  "
            ]
          },
          "execution_count": 20,
          "metadata": {},
          "output_type": "execute_result"
        }
      ],
      "source": [
        "train.head()"
      ]
    },
    {
      "cell_type": "code",
      "execution_count": null,
      "id": "9f55a368-76fc-44b6-9d88-70ddd956e665",
      "metadata": {
        "id": "9f55a368-76fc-44b6-9d88-70ddd956e665"
      },
      "outputs": [],
      "source": [
        "result = train.loc[:, ['Surname','Tenure']]\n",
        "result.to_csv('result.csv', index = False) # 인덱스 번호는 열로 추출\n",
        "# 현재 워킹 디렉토리에 저장됨(projectDS)"
      ]
    },
    {
      "cell_type": "markdown",
      "id": "b09a03d3-d565-4820-b32d-ba56b553f786",
      "metadata": {
        "id": "b09a03d3-d565-4820-b32d-ba56b553f786"
      },
      "source": [
        "## 데이터 불러오기"
      ]
    },
    {
      "cell_type": "code",
      "execution_count": null,
      "id": "5b4b820c-aad7-4c55-a30c-2aed98f1f38a",
      "metadata": {
        "id": "5b4b820c-aad7-4c55-a30c-2aed98f1f38a",
        "outputId": "a8982aae-f6ed-4ced-a2b1-1dbc5ecffd0b"
      },
      "outputs": [
        {
          "data": {
            "text/html": [
              "<div>\n",
              "<style scoped>\n",
              "    .dataframe tbody tr th:only-of-type {\n",
              "        vertical-align: middle;\n",
              "    }\n",
              "\n",
              "    .dataframe tbody tr th {\n",
              "        vertical-align: top;\n",
              "    }\n",
              "\n",
              "    .dataframe thead th {\n",
              "        text-align: right;\n",
              "    }\n",
              "</style>\n",
              "<table border=\"1\" class=\"dataframe\">\n",
              "  <thead>\n",
              "    <tr style=\"text-align: right;\">\n",
              "      <th></th>\n",
              "      <th>PassengerId</th>\n",
              "      <th>Survived</th>\n",
              "      <th>Pclass</th>\n",
              "      <th>Name</th>\n",
              "      <th>Sex</th>\n",
              "      <th>Age</th>\n",
              "      <th>SibSp</th>\n",
              "      <th>Parch</th>\n",
              "      <th>Ticket</th>\n",
              "      <th>Fare</th>\n",
              "      <th>Cabin</th>\n",
              "      <th>Embarked</th>\n",
              "    </tr>\n",
              "  </thead>\n",
              "  <tbody>\n",
              "    <tr>\n",
              "      <th>0</th>\n",
              "      <td>1</td>\n",
              "      <td>0</td>\n",
              "      <td>3</td>\n",
              "      <td>Braund, Mr. Owen Harris</td>\n",
              "      <td>male</td>\n",
              "      <td>22.0</td>\n",
              "      <td>1</td>\n",
              "      <td>0</td>\n",
              "      <td>A/5 21171</td>\n",
              "      <td>7.2500</td>\n",
              "      <td>NaN</td>\n",
              "      <td>S</td>\n",
              "    </tr>\n",
              "    <tr>\n",
              "      <th>1</th>\n",
              "      <td>2</td>\n",
              "      <td>1</td>\n",
              "      <td>1</td>\n",
              "      <td>Cumings, Mrs. John Bradley (Florence Briggs Th...</td>\n",
              "      <td>female</td>\n",
              "      <td>38.0</td>\n",
              "      <td>1</td>\n",
              "      <td>0</td>\n",
              "      <td>PC 17599</td>\n",
              "      <td>71.2833</td>\n",
              "      <td>C85</td>\n",
              "      <td>C</td>\n",
              "    </tr>\n",
              "    <tr>\n",
              "      <th>2</th>\n",
              "      <td>3</td>\n",
              "      <td>1</td>\n",
              "      <td>3</td>\n",
              "      <td>Heikkinen, Miss. Laina</td>\n",
              "      <td>female</td>\n",
              "      <td>26.0</td>\n",
              "      <td>0</td>\n",
              "      <td>0</td>\n",
              "      <td>STON/O2. 3101282</td>\n",
              "      <td>7.9250</td>\n",
              "      <td>NaN</td>\n",
              "      <td>S</td>\n",
              "    </tr>\n",
              "    <tr>\n",
              "      <th>3</th>\n",
              "      <td>4</td>\n",
              "      <td>1</td>\n",
              "      <td>1</td>\n",
              "      <td>Futrelle, Mrs. Jacques Heath (Lily May Peel)</td>\n",
              "      <td>female</td>\n",
              "      <td>35.0</td>\n",
              "      <td>1</td>\n",
              "      <td>0</td>\n",
              "      <td>113803</td>\n",
              "      <td>53.1000</td>\n",
              "      <td>C123</td>\n",
              "      <td>S</td>\n",
              "    </tr>\n",
              "    <tr>\n",
              "      <th>4</th>\n",
              "      <td>5</td>\n",
              "      <td>0</td>\n",
              "      <td>3</td>\n",
              "      <td>Allen, Mr. William Henry</td>\n",
              "      <td>male</td>\n",
              "      <td>35.0</td>\n",
              "      <td>0</td>\n",
              "      <td>0</td>\n",
              "      <td>373450</td>\n",
              "      <td>8.0500</td>\n",
              "      <td>NaN</td>\n",
              "      <td>S</td>\n",
              "    </tr>\n",
              "    <tr>\n",
              "      <th>...</th>\n",
              "      <td>...</td>\n",
              "      <td>...</td>\n",
              "      <td>...</td>\n",
              "      <td>...</td>\n",
              "      <td>...</td>\n",
              "      <td>...</td>\n",
              "      <td>...</td>\n",
              "      <td>...</td>\n",
              "      <td>...</td>\n",
              "      <td>...</td>\n",
              "      <td>...</td>\n",
              "      <td>...</td>\n",
              "    </tr>\n",
              "    <tr>\n",
              "      <th>886</th>\n",
              "      <td>887</td>\n",
              "      <td>0</td>\n",
              "      <td>2</td>\n",
              "      <td>Montvila, Rev. Juozas</td>\n",
              "      <td>male</td>\n",
              "      <td>27.0</td>\n",
              "      <td>0</td>\n",
              "      <td>0</td>\n",
              "      <td>211536</td>\n",
              "      <td>13.0000</td>\n",
              "      <td>NaN</td>\n",
              "      <td>S</td>\n",
              "    </tr>\n",
              "    <tr>\n",
              "      <th>887</th>\n",
              "      <td>888</td>\n",
              "      <td>1</td>\n",
              "      <td>1</td>\n",
              "      <td>Graham, Miss. Margaret Edith</td>\n",
              "      <td>female</td>\n",
              "      <td>19.0</td>\n",
              "      <td>0</td>\n",
              "      <td>0</td>\n",
              "      <td>112053</td>\n",
              "      <td>30.0000</td>\n",
              "      <td>B42</td>\n",
              "      <td>S</td>\n",
              "    </tr>\n",
              "    <tr>\n",
              "      <th>888</th>\n",
              "      <td>889</td>\n",
              "      <td>0</td>\n",
              "      <td>3</td>\n",
              "      <td>Johnston, Miss. Catherine Helen \"Carrie\"</td>\n",
              "      <td>female</td>\n",
              "      <td>NaN</td>\n",
              "      <td>1</td>\n",
              "      <td>2</td>\n",
              "      <td>W./C. 6607</td>\n",
              "      <td>23.4500</td>\n",
              "      <td>NaN</td>\n",
              "      <td>S</td>\n",
              "    </tr>\n",
              "    <tr>\n",
              "      <th>889</th>\n",
              "      <td>890</td>\n",
              "      <td>1</td>\n",
              "      <td>1</td>\n",
              "      <td>Behr, Mr. Karl Howell</td>\n",
              "      <td>male</td>\n",
              "      <td>26.0</td>\n",
              "      <td>0</td>\n",
              "      <td>0</td>\n",
              "      <td>111369</td>\n",
              "      <td>30.0000</td>\n",
              "      <td>C148</td>\n",
              "      <td>C</td>\n",
              "    </tr>\n",
              "    <tr>\n",
              "      <th>890</th>\n",
              "      <td>891</td>\n",
              "      <td>0</td>\n",
              "      <td>3</td>\n",
              "      <td>Dooley, Mr. Patrick</td>\n",
              "      <td>male</td>\n",
              "      <td>32.0</td>\n",
              "      <td>0</td>\n",
              "      <td>0</td>\n",
              "      <td>370376</td>\n",
              "      <td>7.7500</td>\n",
              "      <td>NaN</td>\n",
              "      <td>Q</td>\n",
              "    </tr>\n",
              "  </tbody>\n",
              "</table>\n",
              "<p>891 rows × 12 columns</p>\n",
              "</div>"
            ],
            "text/plain": [
              "     PassengerId  Survived  Pclass  \\\n",
              "0              1         0       3   \n",
              "1              2         1       1   \n",
              "2              3         1       3   \n",
              "3              4         1       1   \n",
              "4              5         0       3   \n",
              "..           ...       ...     ...   \n",
              "886          887         0       2   \n",
              "887          888         1       1   \n",
              "888          889         0       3   \n",
              "889          890         1       1   \n",
              "890          891         0       3   \n",
              "\n",
              "                                                  Name     Sex   Age  SibSp  \\\n",
              "0                              Braund, Mr. Owen Harris    male  22.0      1   \n",
              "1    Cumings, Mrs. John Bradley (Florence Briggs Th...  female  38.0      1   \n",
              "2                               Heikkinen, Miss. Laina  female  26.0      0   \n",
              "3         Futrelle, Mrs. Jacques Heath (Lily May Peel)  female  35.0      1   \n",
              "4                             Allen, Mr. William Henry    male  35.0      0   \n",
              "..                                                 ...     ...   ...    ...   \n",
              "886                              Montvila, Rev. Juozas    male  27.0      0   \n",
              "887                       Graham, Miss. Margaret Edith  female  19.0      0   \n",
              "888           Johnston, Miss. Catherine Helen \"Carrie\"  female   NaN      1   \n",
              "889                              Behr, Mr. Karl Howell    male  26.0      0   \n",
              "890                                Dooley, Mr. Patrick    male  32.0      0   \n",
              "\n",
              "     Parch            Ticket     Fare Cabin Embarked  \n",
              "0        0         A/5 21171   7.2500   NaN        S  \n",
              "1        0          PC 17599  71.2833   C85        C  \n",
              "2        0  STON/O2. 3101282   7.9250   NaN        S  \n",
              "3        0            113803  53.1000  C123        S  \n",
              "4        0            373450   8.0500   NaN        S  \n",
              "..     ...               ...      ...   ...      ...  \n",
              "886      0            211536  13.0000   NaN        S  \n",
              "887      0            112053  30.0000   B42        S  \n",
              "888      2        W./C. 6607  23.4500   NaN        S  \n",
              "889      0            111369  30.0000  C148        C  \n",
              "890      0            370376   7.7500   NaN        Q  \n",
              "\n",
              "[891 rows x 12 columns]"
            ]
          },
          "execution_count": 30,
          "metadata": {},
          "output_type": "execute_result"
        }
      ],
      "source": [
        "titanic = pd.read_csv('https://raw.githubusercontent.com/pandas-dev/pandas/main/doc/data/titanic.csv')\n",
        "titanic"
      ]
    },
    {
      "cell_type": "code",
      "execution_count": null,
      "id": "b60676a6-cb71-4bdc-b98c-989dd536ecc7",
      "metadata": {
        "id": "b60676a6-cb71-4bdc-b98c-989dd536ecc7",
        "outputId": "c8bca33b-88c2-4cf0-d256-06422f9b32e7"
      },
      "outputs": [
        {
          "name": "stdout",
          "output_type": "stream",
          "text": [
            "<class 'pandas.core.frame.DataFrame'>\n",
            "RangeIndex: 891 entries, 0 to 890\n",
            "Data columns (total 12 columns):\n",
            " #   Column       Non-Null Count  Dtype  \n",
            "---  ------       --------------  -----  \n",
            " 0   PassengerId  891 non-null    int64  \n",
            " 1   Survived     891 non-null    int64  \n",
            " 2   Pclass       891 non-null    int64  \n",
            " 3   Name         891 non-null    object \n",
            " 4   Sex          891 non-null    object \n",
            " 5   Age          714 non-null    float64\n",
            " 6   SibSp        891 non-null    int64  \n",
            " 7   Parch        891 non-null    int64  \n",
            " 8   Ticket       891 non-null    object \n",
            " 9   Fare         891 non-null    float64\n",
            " 10  Cabin        204 non-null    object \n",
            " 11  Embarked     889 non-null    object \n",
            "dtypes: float64(2), int64(5), object(5)\n",
            "memory usage: 83.7+ KB\n"
          ]
        }
      ],
      "source": [
        "titanic.info()"
      ]
    },
    {
      "cell_type": "code",
      "execution_count": null,
      "id": "6b6ff54f-8dc1-499b-a9c1-27c8b2827452",
      "metadata": {
        "id": "6b6ff54f-8dc1-499b-a9c1-27c8b2827452",
        "outputId": "8ccdf047-4bab-449d-931f-76245cd24092"
      },
      "outputs": [
        {
          "data": {
            "text/plain": [
              "0                                braund, mr. owen harris\n",
              "1      cumings, mrs. john bradley (florence briggs th...\n",
              "2                                 heikkinen, miss. laina\n",
              "3           futrelle, mrs. jacques heath (lily may peel)\n",
              "4                               allen, mr. william henry\n",
              "                             ...                        \n",
              "886                                montvila, rev. juozas\n",
              "887                         graham, miss. margaret edith\n",
              "888             johnston, miss. catherine helen \"carrie\"\n",
              "889                                behr, mr. karl howell\n",
              "890                                  dooley, mr. patrick\n",
              "Name: Name, Length: 891, dtype: object"
            ]
          },
          "execution_count": 40,
          "metadata": {},
          "output_type": "execute_result"
        }
      ],
      "source": [
        "titanic['Name'].str.lower()   # str.lower(): 소문자로   str.upper(): 대문자로"
      ]
    },
    {
      "cell_type": "code",
      "execution_count": null,
      "id": "000f8dea-6e2e-4742-96f5-5792d00c94c8",
      "metadata": {
        "id": "000f8dea-6e2e-4742-96f5-5792d00c94c8",
        "outputId": "175afeeb-7055-4671-bbdd-62553c458aa7"
      },
      "outputs": [
        {
          "data": {
            "text/plain": [
              "0                             [Braund,  Mr. Owen Harris]\n",
              "1      [Cumings,  Mrs. John Bradley (Florence Briggs ...\n",
              "2                              [Heikkinen,  Miss. Laina]\n",
              "3        [Futrelle,  Mrs. Jacques Heath (Lily May Peel)]\n",
              "4                            [Allen,  Mr. William Henry]\n",
              "                             ...                        \n",
              "886                             [Montvila,  Rev. Juozas]\n",
              "887                      [Graham,  Miss. Margaret Edith]\n",
              "888          [Johnston,  Miss. Catherine Helen \"Carrie\"]\n",
              "889                             [Behr,  Mr. Karl Howell]\n",
              "890                               [Dooley,  Mr. Patrick]\n",
              "Name: Name, Length: 891, dtype: object"
            ]
          },
          "execution_count": 45,
          "metadata": {},
          "output_type": "execute_result"
        }
      ],
      "source": [
        "titanic['Name'].str.split(',')         # ,를 기준으로 나누어 시리즈 반환"
      ]
    },
    {
      "cell_type": "code",
      "execution_count": null,
      "id": "861667ac-cec7-4361-a7cc-c7555843fea2",
      "metadata": {
        "id": "861667ac-cec7-4361-a7cc-c7555843fea2"
      },
      "outputs": [],
      "source": [
        "titanic['Surname'] = titanic['Name'].str.split(',').str.get(0)"
      ]
    },
    {
      "cell_type": "code",
      "execution_count": null,
      "id": "8a3e6c8e-cf47-48ba-9825-9136d36794ec",
      "metadata": {
        "id": "8a3e6c8e-cf47-48ba-9825-9136d36794ec",
        "outputId": "6fa9a7f7-105c-466d-a50a-4939905babb3"
      },
      "outputs": [
        {
          "data": {
            "text/plain": [
              "1"
            ]
          },
          "execution_count": 50,
          "metadata": {},
          "output_type": "execute_result"
        }
      ],
      "source": [
        "titanic['Name'].str.contains('Countess').sum(axis=0)   # Name에 Countess가 있는 데이터 수"
      ]
    },
    {
      "cell_type": "code",
      "execution_count": null,
      "id": "71afbdee-bffe-4702-8365-7fe94d8ca3c5",
      "metadata": {
        "id": "71afbdee-bffe-4702-8365-7fe94d8ca3c5",
        "outputId": "0a713080-a68b-432a-9be4-013bf5d1a222"
      },
      "outputs": [
        {
          "data": {
            "text/html": [
              "<div>\n",
              "<style scoped>\n",
              "    .dataframe tbody tr th:only-of-type {\n",
              "        vertical-align: middle;\n",
              "    }\n",
              "\n",
              "    .dataframe tbody tr th {\n",
              "        vertical-align: top;\n",
              "    }\n",
              "\n",
              "    .dataframe thead th {\n",
              "        text-align: right;\n",
              "    }\n",
              "</style>\n",
              "<table border=\"1\" class=\"dataframe\">\n",
              "  <thead>\n",
              "    <tr style=\"text-align: right;\">\n",
              "      <th></th>\n",
              "      <th>PassengerId</th>\n",
              "      <th>Survived</th>\n",
              "      <th>Pclass</th>\n",
              "      <th>Name</th>\n",
              "      <th>Sex</th>\n",
              "      <th>Age</th>\n",
              "      <th>SibSp</th>\n",
              "      <th>Parch</th>\n",
              "      <th>Ticket</th>\n",
              "      <th>Fare</th>\n",
              "      <th>Cabin</th>\n",
              "      <th>Embarked</th>\n",
              "      <th>Surname</th>\n",
              "    </tr>\n",
              "  </thead>\n",
              "  <tbody>\n",
              "    <tr>\n",
              "      <th>759</th>\n",
              "      <td>760</td>\n",
              "      <td>1</td>\n",
              "      <td>1</td>\n",
              "      <td>Rothes, the Countess. of (Lucy Noel Martha Dye...</td>\n",
              "      <td>female</td>\n",
              "      <td>33.0</td>\n",
              "      <td>0</td>\n",
              "      <td>0</td>\n",
              "      <td>110152</td>\n",
              "      <td>86.5</td>\n",
              "      <td>B77</td>\n",
              "      <td>S</td>\n",
              "      <td>Rothes</td>\n",
              "    </tr>\n",
              "  </tbody>\n",
              "</table>\n",
              "</div>"
            ],
            "text/plain": [
              "     PassengerId  Survived  Pclass  \\\n",
              "759          760         1       1   \n",
              "\n",
              "                                                  Name     Sex   Age  SibSp  \\\n",
              "759  Rothes, the Countess. of (Lucy Noel Martha Dye...  female  33.0      0   \n",
              "\n",
              "     Parch  Ticket  Fare Cabin Embarked Surname  \n",
              "759      0  110152  86.5   B77        S  Rothes  "
            ]
          },
          "execution_count": 52,
          "metadata": {},
          "output_type": "execute_result"
        }
      ],
      "source": [
        "titanic.loc[titanic['Name'].str.contains('Countess')]  # Name에 Countess가 있는 데이터 추출"
      ]
    },
    {
      "cell_type": "code",
      "execution_count": null,
      "id": "1c1bba82-5be7-4a92-9008-b70adf35c389",
      "metadata": {
        "id": "1c1bba82-5be7-4a92-9008-b70adf35c389",
        "outputId": "4d0a8e58-f08a-443b-951a-d299b9e55632"
      },
      "outputs": [
        {
          "data": {
            "text/plain": [
              "0      23\n",
              "1      51\n",
              "2      22\n",
              "3      44\n",
              "4      24\n",
              "       ..\n",
              "886    21\n",
              "887    28\n",
              "888    40\n",
              "889    21\n",
              "890    19\n",
              "Name: Name, Length: 891, dtype: int64"
            ]
          },
          "execution_count": 54,
          "metadata": {},
          "output_type": "execute_result"
        }
      ],
      "source": [
        "titanic['Name'].str.len()   # Name의 길이"
      ]
    },
    {
      "cell_type": "markdown",
      "id": "e7a62782-09ca-4b5a-a23c-65def1640af6",
      "metadata": {
        "id": "e7a62782-09ca-4b5a-a23c-65def1640af6"
      },
      "source": [
        "### .max()와 .idxmax()차이\n",
        "- 객체.max(): 객체의 최댓값\n",
        "- 객체.idxmax(): 객체의 최댓값의 인덱스"
      ]
    },
    {
      "cell_type": "code",
      "execution_count": null,
      "id": "41557854-6916-44f6-912e-31b87212a977",
      "metadata": {
        "id": "41557854-6916-44f6-912e-31b87212a977",
        "outputId": "b4d66134-ef52-40d9-c706-552351f6e4a1"
      },
      "outputs": [
        {
          "name": "stdout",
          "output_type": "stream",
          "text": [
            "McDermott, Miss. Brigdet Delia\n",
            "Penasco y Castellana, Mrs. Victor de Satode (Maria Josefa Perez de Soto y Vallejo)\n"
          ]
        }
      ],
      "source": [
        "print(titanic.loc[titanic['Name'].str.len().max(), 'Name'])       # 두 메서드 확실히 다름! ->\n",
        "print(titanic.loc[titanic['Name'].str.len().idxmax(), 'Name'])    # + .idxmax()는 str메서드가 아니므로 정수에도 적용되고, str.도 앞에 필요X"
      ]
    },
    {
      "cell_type": "code",
      "execution_count": null,
      "id": "e852c815-bf43-471c-b520-278b2fddebb2",
      "metadata": {
        "id": "e852c815-bf43-471c-b520-278b2fddebb2",
        "outputId": "754bfc8f-90eb-40c6-ad16-eaddd978431b"
      },
      "outputs": [
        {
          "name": "stdout",
          "output_type": "stream",
          "text": [
            "82\n",
            "307\n"
          ]
        }
      ],
      "source": [
        "print(titanic['Name'].str.len().max())\n",
        "print(titanic['Name'].str.len().idxmax())"
      ]
    },
    {
      "cell_type": "code",
      "execution_count": null,
      "id": "246fef78-5213-42fb-8848-eedb386b25c3",
      "metadata": {
        "id": "246fef78-5213-42fb-8848-eedb386b25c3",
        "outputId": "df11ad3c-e88f-42b5-9caa-b07a99ce3403"
      },
      "outputs": [
        {
          "name": "stdout",
          "output_type": "stream",
          "text": [
            "McDermott, Miss. Brigdet Delia\n",
            "Penasco y Castellana, Mrs. Victor de Satode (Maria Josefa Perez de Soto y Vallejo)\n"
          ]
        }
      ],
      "source": [
        "print(titanic.iloc[82,:].Name)\n",
        "print(titanic.iloc[307,:].Name)"
      ]
    },
    {
      "cell_type": "code",
      "execution_count": null,
      "id": "7f95a638-1ed2-4a98-b37e-f2652dba33e8",
      "metadata": {
        "id": "7f95a638-1ed2-4a98-b37e-f2652dba33e8"
      },
      "outputs": [],
      "source": [
        "titanic[\"Sex_short\"] = titanic[\"Sex\"].str.replace(\"female\", \"F\")"
      ]
    },
    {
      "cell_type": "code",
      "execution_count": null,
      "id": "36c52ad9-69f4-415f-abb2-e6bbaabc890a",
      "metadata": {
        "id": "36c52ad9-69f4-415f-abb2-e6bbaabc890a"
      },
      "outputs": [],
      "source": [
        "titanic[\"Sex_short\"] = titanic[\"Sex_short\"].str.replace(\"male\", \"M\")"
      ]
    },
    {
      "cell_type": "code",
      "execution_count": null,
      "id": "ce98460d-e3e5-45cf-baf2-ed68f4883e57",
      "metadata": {
        "id": "ce98460d-e3e5-45cf-baf2-ed68f4883e57",
        "outputId": "92cd97c3-451a-4668-bb6d-62be94957eda"
      },
      "outputs": [
        {
          "data": {
            "text/plain": [
              "0      M\n",
              "1      F\n",
              "2      F\n",
              "3      F\n",
              "4      M\n",
              "      ..\n",
              "886    M\n",
              "887    F\n",
              "888    F\n",
              "889    M\n",
              "890    M\n",
              "Name: Sex_short, Length: 891, dtype: object"
            ]
          },
          "execution_count": 75,
          "metadata": {},
          "output_type": "execute_result"
        }
      ],
      "source": [
        "titanic['Sex_short']"
      ]
    },
    {
      "cell_type": "code",
      "execution_count": null,
      "id": "a29eb60b-2023-48f1-8e85-e0d90d6d83a4",
      "metadata": {
        "id": "a29eb60b-2023-48f1-8e85-e0d90d6d83a4",
        "outputId": "5a932fa7-e9f4-4c8b-871f-dfd0032ca4bd"
      },
      "outputs": [
        {
          "data": {
            "text/plain": [
              "0      M\n",
              "1      F\n",
              "2      F\n",
              "3      F\n",
              "4      M\n",
              "      ..\n",
              "886    M\n",
              "887    F\n",
              "888    F\n",
              "889    M\n",
              "890    M\n",
              "Name: Sex_short1, Length: 891, dtype: object"
            ]
          },
          "execution_count": 77,
          "metadata": {},
          "output_type": "execute_result"
        }
      ],
      "source": [
        "titanic[\"Sex_short1\"] = titanic[\"Sex\"].str.replace(\"female\", \"F\")\n",
        "titanic[\"Sex_short1\"] = titanic[\"Sex_short1\"].str.replace(\"male\", \"M\")\n",
        "titanic['Sex_short1']"
      ]
    },
    {
      "cell_type": "markdown",
      "id": "94aafa59-6eb4-4b65-80ee-4d8914b6eba6",
      "metadata": {
        "id": "94aafa59-6eb4-4b65-80ee-4d8914b6eba6"
      },
      "source": [
        "# 시각화"
      ]
    },
    {
      "cell_type": "code",
      "execution_count": null,
      "id": "dac32216-7344-490d-9c30-d3ffe067e950",
      "metadata": {
        "id": "dac32216-7344-490d-9c30-d3ffe067e950",
        "outputId": "8a704f42-792d-4582-daba-1f9a161d5827"
      },
      "outputs": [
        {
          "name": "stdout",
          "output_type": "stream",
          "text": [
            "Matplotlib Version: 3.8.2 \n",
            "Seaborn Version: 0.13.1\n"
          ]
        }
      ],
      "source": [
        "import matplotlib as mpl  # 설치 안 되어있으면 virtualenv상이므로 !pip install, conda환경에선 !conda install로 설치\n",
        "import seaborn as sns\n",
        "\n",
        "print(f'Matplotlib Version: {mpl.__version__} \\nSeaborn Version: {sns.__version__}')"
      ]
    },
    {
      "cell_type": "code",
      "execution_count": null,
      "id": "29d078ab-d914-4446-a23b-23c5d344ec13",
      "metadata": {
        "id": "29d078ab-d914-4446-a23b-23c5d344ec13",
        "outputId": "caac6b57-7c2e-4e6a-a601-f52ae79dbcfd"
      },
      "outputs": [
        {
          "data": {
            "text/plain": [
              "[<matplotlib.lines.Line2D at 0x1ae1ea422a0>]"
            ]
          },
          "execution_count": 94,
          "metadata": {},
          "output_type": "execute_result"
        },
        {
          "data": {
            "image/png": "[encoded data removed]",
            "text/plain": [
              "<Figure size 300x300 with 1 Axes>"
            ]
          },
          "metadata": {},
          "output_type": "display_data"
        }
      ],
      "source": [
        "# p.285\n",
        "import matplotlib.pyplot as plt\n",
        "data1 = [10, 14, 19, 20, 25]\n",
        "\n",
        "plt.figure(figsize=(3,3))   # 자리차지 싫어유\n",
        "plt.plot(data1)     # 그래프 객체의 정보도 같이 출력됨"
      ]
    },
    {
      "cell_type": "code",
      "execution_count": null,
      "id": "88be91d9-9988-41a7-b497-9d76e188f662",
      "metadata": {
        "id": "88be91d9-9988-41a7-b497-9d76e188f662",
        "outputId": "01bf80e2-2ef0-4ed3-a171-872a92eab3a6"
      },
      "outputs": [
        {
          "data": {
            "image/png": "[encoded data removed]",
            "text/plain": [
              "<Figure size 300x300 with 1 Axes>"
            ]
          },
          "metadata": {},
          "output_type": "display_data"
        }
      ],
      "source": [
        "plt.figure(figsize=(3,3))\n",
        "plt.plot(data1)\n",
        "plt.show()            # 객체에 대한 정보 없이 출력"
      ]
    },
    {
      "cell_type": "code",
      "execution_count": null,
      "id": "3e4c14fd-31d9-45ae-a1ad-f763beb714b9",
      "metadata": {
        "id": "3e4c14fd-31d9-45ae-a1ad-f763beb714b9"
      },
      "outputs": [],
      "source": [
        "# %matplotlib qt: 별도의 팝업창에 그래프 출력     # 왜 안되징"
      ]
    },
    {
      "cell_type": "markdown",
      "id": "e712a978-9c06-4787-a81f-8f5aefbee9de",
      "metadata": {
        "id": "e712a978-9c06-4787-a81f-8f5aefbee9de"
      },
      "source": [
        "## matplotlib 이용 시각화 포맷"
      ]
    },
    {
      "cell_type": "code",
      "execution_count": null,
      "id": "80d7da61-74f6-465a-b873-fea7f775dcb8",
      "metadata": {
        "id": "80d7da61-74f6-465a-b873-fea7f775dcb8",
        "outputId": "5bbb439d-ae1e-45df-b83a-19ac43ce1151"
      },
      "outputs": [
        {
          "data": {
            "image/png": "[encoded data removed]",
            "text/plain": [
              "<Figure size 300x300 with 1 Axes>"
            ]
          },
          "metadata": {},
          "output_type": "display_data"
        }
      ],
      "source": [
        "import matplotlib.pyplot as plt\n",
        "data1 = [10, 14, 19, 20, 25]\n",
        "\n",
        "# plt.plot(data1)\n",
        "fig, ax = plt.subplots(figsize=(3,3))   # .subplots()안에 figsize들어가네!\n",
        "ax.plot(data1)\n",
        "plt.show()"
      ]
    },
    {
      "cell_type": "markdown",
      "id": "228ec0aa-9e22-4968-b27a-82f344f405a1",
      "metadata": {
        "id": "228ec0aa-9e22-4968-b27a-82f344f405a1"
      },
      "source": [
        "프로젝트시 Waterfall차트 사용해보자! 현업 사용 많음"
      ]
    },
    {
      "cell_type": "markdown",
      "id": "5886be42-33ab-4676-9407-c8815fb26268",
      "metadata": {
        "id": "5886be42-33ab-4676-9407-c8815fb26268"
      },
      "source": [
        "## plotly\n",
        "- **대화형 차트**, 그래프 및 **대시보드**를 생성하기 위한 다양한 도구 제공\n",
        "- (프로젝트 기준)시간은 제한적이므로 matplotlib+seaborn이 나을지 plotly가 나을지 본인이 선택\n",
        "- e.g. 기획, 분석업무: (개발 절대 안 할 예정)matplotlib+seaborn 추천\n",
        "- 기획 분석쪽인데 대화형 차트 공부하고싶으면 독학으로 Tableau 공부(ing)\n",
        "       웹개발: (분석은 X)plotly 추천"
      ]
    },
    {
      "cell_type": "markdown",
      "id": "e2d7223f-4271-4468-a48c-0f839ca35a48",
      "metadata": {
        "id": "e2d7223f-4271-4468-a48c-0f839ca35a48"
      },
      "source": [
        "- 다음 주 월요일 4 or 8교시: jehyunlee 블로그에서 하나 돌아가는 코드 던져주고 팀별로 공부해봐라 할 예정\n",
        "- https://jehyunlee.github.io/2020/08/27/Python-DS-28-mpl_spines_grids/"
      ]
    },
    {
      "cell_type": "markdown",
      "id": "82fbeb98-e5fa-4e43-91a2-efb50e514ac1",
      "metadata": {
        "id": "82fbeb98-e5fa-4e43-91a2-efb50e514ac1"
      },
      "source": [
        "## Matplotlib 기법\n"
      ]
    },
    {
      "cell_type": "code",
      "execution_count": null,
      "id": "b4fc2360-cc86-4ef1-860d-2f4b755245e8",
      "metadata": {
        "id": "b4fc2360-cc86-4ef1-860d-2f4b755245e8"
      },
      "outputs": [],
      "source": [
        "import matplotlib.pyplot as plt\n",
        "\n",
        "dates = [\n",
        "    '2021-01-01', '2021-01-02', '2021-01-03', '2021-01-04', '2021-01-05',\n",
        "    '2021-01-06', '2021-01-07', '2021-01-08', '2021-01-09', '2021-01-10'\n",
        "]\n",
        "min_temperature = [20.7, 17.9, 18.8, 14.6, 15.8, 15.8, 15.8, 17.4, 21.8, 20.0]\n",
        "max_temperature = [34.7, 28.9, 31.8, 25.6, 28.8, 21.8, 22.8, 28.4, 30.8, 32.0]"
      ]
    },
    {
      "cell_type": "code",
      "execution_count": null,
      "id": "d39c346a-7aca-427a-85d8-ccd9eabc568d",
      "metadata": {
        "id": "d39c346a-7aca-427a-85d8-ccd9eabc568d",
        "outputId": "0281a57c-17bd-4056-fdb6-731c4a8a42e5"
      },
      "outputs": [
        {
          "data": {
            "image/png": "[encoded data removed]",
            "text/plain": [
              "<Figure size 1200x300 with 1 Axes>"
            ]
          },
          "metadata": {},
          "output_type": "display_data"
        }
      ],
      "source": [
        "fig, ax = plt.subplots(nrows=1, ncols=1, figsize=(12,3))    # 캔버스 그리기\n",
        "ax.plot(dates, min_temperature, label='2021')\n",
        "ax.plot(dates, max_temperature, label='2024')\n",
        "ax.legend(loc='best', reverse=True) # 입력받은 순서와 반대로 범례 지정\n",
        "plt.show()\n",
        "# 가로축 등 수정하고싶으면 matplotlib으로!"
      ]
    },
    {
      "cell_type": "markdown",
      "id": "b2afcafb-2745-4523-9ba0-f233b4a8a882",
      "metadata": {
        "id": "b2afcafb-2745-4523-9ba0-f233b4a8a882"
      },
      "source": [
        "## 막대 그래프"
      ]
    },
    {
      "cell_type": "code",
      "execution_count": null,
      "id": "9daa4fe8-210d-4cab-b39a-a1b831fd781c",
      "metadata": {
        "id": "9daa4fe8-210d-4cab-b39a-a1b831fd781c"
      },
      "outputs": [],
      "source": [
        "month_list = [1, 2, 3, 4, 5, 6, 7, 8, 9, 10, 11, 12]\n",
        "sold_list = [300, 400, 550, 900, 600, 960, 900, 910, 800, 700, 550, 450]"
      ]
    },
    {
      "cell_type": "code",
      "execution_count": null,
      "id": "a658ebf2-20d0-414f-8ef0-c9afd7188311",
      "metadata": {
        "id": "a658ebf2-20d0-414f-8ef0-c9afd7188311",
        "outputId": "d8d56bc0-955b-41fd-8bed-1ffa317042eb"
      },
      "outputs": [
        {
          "data": {
            "image/png": "[encoded data removed]",
            "text/plain": [
              "<Figure size 300x300 with 1 Axes>"
            ]
          },
          "metadata": {},
          "output_type": "display_data"
        }
      ],
      "source": [
        "fig, ax = plt.subplots(nrows=1, ncols=1, figsize=(3,3))\n",
        "ax.bar(month_list, sold_list, color='Yellowgreen')\n",
        "plt.show()"
      ]
    },
    {
      "cell_type": "code",
      "execution_count": null,
      "id": "7f4ab53a-0208-43c5-b550-92e69d5d902a",
      "metadata": {
        "id": "7f4ab53a-0208-43c5-b550-92e69d5d902a",
        "outputId": "9e61e2aa-b773-49e3-e0a5-f7cf2519cf47"
      },
      "outputs": [
        {
          "data": {
            "image/png": "[encoded data removed]",
            "text/plain": [
              "<Figure size 800x300 with 1 Axes>"
            ]
          },
          "metadata": {},
          "output_type": "display_data"
        }
      ],
      "source": [
        "import calendar\n",
        "month = calendar.month_name[1:13] # 월 이름 출력\n",
        "\n",
        "fig, ax = plt.subplots(nrows=1, ncols=1, figsize=(8,3))\n",
        "ax.bar(month_list, sold_list, color='Yellowgreen')\n",
        "ax.set_xticks(month_list, month, rotation=90)    # x축 이름 변경, 각 단어 기니까 세로로 쓰기\n",
        "plt.show()"
      ]
    },
    {
      "cell_type": "code",
      "execution_count": null,
      "id": "9b3d16a8-d1dd-4b5d-9294-338e3e9b552f",
      "metadata": {
        "id": "9b3d16a8-d1dd-4b5d-9294-338e3e9b552f",
        "outputId": "453586f3-b44a-48ec-b9c7-77088b132333"
      },
      "outputs": [
        {
          "name": "stdout",
          "output_type": "stream",
          "text": [
            "<BarContainer object of 12 artists>\n",
            "Rectangle(xy=(0.6, 0), width=0.8, height=300, angle=0)\n",
            "Rectangle(xy=(1.6, 0), width=0.8, height=400, angle=0)\n",
            "Rectangle(xy=(2.6, 0), width=0.8, height=550, angle=0)\n",
            "Rectangle(xy=(3.6, 0), width=0.8, height=900, angle=0)\n",
            "Rectangle(xy=(4.6, 0), width=0.8, height=600, angle=0)\n",
            "Rectangle(xy=(5.6, 0), width=0.8, height=960, angle=0)\n",
            "Rectangle(xy=(6.6, 0), width=0.8, height=900, angle=0)\n",
            "Rectangle(xy=(7.6, 0), width=0.8, height=910, angle=0)\n",
            "Rectangle(xy=(8.6, 0), width=0.8, height=800, angle=0)\n",
            "Rectangle(xy=(9.6, 0), width=0.8, height=700, angle=0)\n",
            "Rectangle(xy=(10.6, 0), width=0.8, height=550, angle=0)\n",
            "Rectangle(xy=(11.6, 0), width=0.8, height=450, angle=0)\n"
          ]
        },
        {
          "data": {
            "image/png": "[encoded data removed]",
            "text/plain": [
              "<Figure size 600x300 with 1 Axes>"
            ]
          },
          "metadata": {},
          "output_type": "display_data"
        }
      ],
      "source": [
        "fig, ax = plt.subplots(nrows=1, ncols=1, figsize=(6,3))\n",
        "barcharts = ax.bar(month_list, sold_list, color='Yellowgreen')\n",
        "ax.set_xticks(month_list, month, rotation=90)\n",
        "\n",
        "print(barcharts)\n",
        "\n",
        "for rect in barcharts:\n",
        "    print(rect)\n",
        "\n",
        "plt.show()"
      ]
    },
    {
      "cell_type": "code",
      "execution_count": null,
      "id": "24deb342-4357-4400-9c58-186fc47edffe",
      "metadata": {
        "id": "24deb342-4357-4400-9c58-186fc47edffe",
        "outputId": "cddf3bb7-0404-42cf-a1e1-4a4cccce277e"
      },
      "outputs": [
        {
          "name": "stdout",
          "output_type": "stream",
          "text": [
            "<BarContainer object of 12 artists>\n"
          ]
        },
        {
          "data": {
            "image/png": "[encoded data removed]",
            "text/plain": [
              "<Figure size 600x600 with 1 Axes>"
            ]
          },
          "metadata": {},
          "output_type": "display_data"
        }
      ],
      "source": [
        "month_list = [1, 2, 3, 4, 5, 6, 7, 8, 9, 10, 11, 12]\n",
        "sold_list = [300, 400, 550, 900, 600, 960, 900, 910, 800, 700, 550, 450]\n",
        "\n",
        "import calendar\n",
        "month = calendar.month_name[1:13] # 월 이름 출력\n",
        "\n",
        "import matplotlib.pyplot as plt\n",
        "\n",
        "fig, ax = plt.subplots(nrows=1, ncols=1, figsize=(6,6))\n",
        "barcharts = ax.bar(month_list, sold_list, color='Yellowgreen')\n",
        "ax.set_xticks(month_list, month, rotation=90)\n",
        "\n",
        "print(barcharts)\n",
        "\n",
        "for rect in barcharts:\n",
        "    # print(rect)\n",
        "    # print(type(rect))    # 결과 드래그해서 공식문서 찾아보기 matplotlib.patches.Rectangle\n",
        "    height = rect.get_height()\n",
        "    ax.text(rect.get_x() + rect.get_width()/2., 1.002*height,'%d' %int(height), ha='center', va='bottom')  # height를 위에 넣는 과정\n",
        "    # get_x() + get_width()/2: x 위치 조정\n",
        "    # 1.002*height: y 위치 조정\n",
        "\n",
        "    # print(height) # 각 높이 출력됨\n",
        "\n",
        "plt.show()"
      ]
    },
    {
      "cell_type": "code",
      "execution_count": null,
      "id": "7552b492-253d-4624-8e4b-c05a78364771",
      "metadata": {
        "id": "7552b492-253d-4624-8e4b-c05a78364771",
        "outputId": "85bdcda2-9977-49bf-d68e-736d9040074a"
      },
      "outputs": [
        {
          "data": {
            "text/html": [
              "<div>\n",
              "<style scoped>\n",
              "    .dataframe tbody tr th:only-of-type {\n",
              "        vertical-align: middle;\n",
              "    }\n",
              "\n",
              "    .dataframe tbody tr th {\n",
              "        vertical-align: top;\n",
              "    }\n",
              "\n",
              "    .dataframe thead th {\n",
              "        text-align: right;\n",
              "    }\n",
              "</style>\n",
              "<table border=\"1\" class=\"dataframe\">\n",
              "  <thead>\n",
              "    <tr style=\"text-align: right;\">\n",
              "      <th></th>\n",
              "      <th>sold</th>\n",
              "      <th>month</th>\n",
              "    </tr>\n",
              "  </thead>\n",
              "  <tbody>\n",
              "    <tr>\n",
              "      <th>1</th>\n",
              "      <td>300</td>\n",
              "      <td>January</td>\n",
              "    </tr>\n",
              "    <tr>\n",
              "      <th>2</th>\n",
              "      <td>400</td>\n",
              "      <td>February</td>\n",
              "    </tr>\n",
              "    <tr>\n",
              "      <th>3</th>\n",
              "      <td>550</td>\n",
              "      <td>March</td>\n",
              "    </tr>\n",
              "    <tr>\n",
              "      <th>4</th>\n",
              "      <td>900</td>\n",
              "      <td>April</td>\n",
              "    </tr>\n",
              "    <tr>\n",
              "      <th>5</th>\n",
              "      <td>600</td>\n",
              "      <td>May</td>\n",
              "    </tr>\n",
              "    <tr>\n",
              "      <th>6</th>\n",
              "      <td>960</td>\n",
              "      <td>June</td>\n",
              "    </tr>\n",
              "    <tr>\n",
              "      <th>7</th>\n",
              "      <td>900</td>\n",
              "      <td>July</td>\n",
              "    </tr>\n",
              "    <tr>\n",
              "      <th>8</th>\n",
              "      <td>910</td>\n",
              "      <td>August</td>\n",
              "    </tr>\n",
              "    <tr>\n",
              "      <th>9</th>\n",
              "      <td>800</td>\n",
              "      <td>September</td>\n",
              "    </tr>\n",
              "    <tr>\n",
              "      <th>10</th>\n",
              "      <td>700</td>\n",
              "      <td>October</td>\n",
              "    </tr>\n",
              "    <tr>\n",
              "      <th>11</th>\n",
              "      <td>550</td>\n",
              "      <td>November</td>\n",
              "    </tr>\n",
              "    <tr>\n",
              "      <th>12</th>\n",
              "      <td>450</td>\n",
              "      <td>December</td>\n",
              "    </tr>\n",
              "  </tbody>\n",
              "</table>\n",
              "</div>"
            ],
            "text/plain": [
              "    sold      month\n",
              "1    300    January\n",
              "2    400   February\n",
              "3    550      March\n",
              "4    900      April\n",
              "5    600        May\n",
              "6    960       June\n",
              "7    900       July\n",
              "8    910     August\n",
              "9    800  September\n",
              "10   700    October\n",
              "11   550   November\n",
              "12   450   December"
            ]
          },
          "execution_count": 180,
          "metadata": {},
          "output_type": "execute_result"
        }
      ],
      "source": [
        "!pip install openpyxl\n",
        "\n",
        "df = pd.DataFrame(sold_list, month_list)\n",
        "df['month'] = month\n",
        "df.columns = ['sold', 'month']\n",
        "df.to_excel('see.xlsx')\n",
        "\n",
        "df"
      ]
    },
    {
      "cell_type": "code",
      "execution_count": null,
      "id": "76e5fb8b-74e0-4e6e-a712-cede84eb7987",
      "metadata": {
        "id": "76e5fb8b-74e0-4e6e-a712-cede84eb7987"
      },
      "outputs": [],
      "source": []
    }
  ],
  "metadata": {
    "kernelspec": {
      "display_name": "Python 3 (ipykernel)",
      "language": "python",
      "name": "python3"
    },
    "language_info": {
      "codemirror_mode": {
        "name": "ipython",
        "version": 3
      },
      "file_extension": ".py",
      "mimetype": "text/x-python",
      "name": "python",
      "nbconvert_exporter": "python",
      "pygments_lexer": "ipython3",
      "version": "3.12.1"
    },
    "colab": {
      "provenance": [],
      "include_colab_link": true
    }
  },
  "nbformat": 4,
  "nbformat_minor": 5
}