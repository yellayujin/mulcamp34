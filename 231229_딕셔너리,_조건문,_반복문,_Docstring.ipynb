{
  "nbformat": 4,
  "nbformat_minor": 0,
  "metadata": {
    "colab": {
      "provenance": [],
      "toc_visible": true,
      "mount_file_id": "18J7vXU_bMhCu_0VPK_nLqBCy9AhvNESd",
      "authorship_tag": "ABX9TyNpW1E/Dmsjx/5KG1h3EWPw",
      "include_colab_link": true
    },
    "kernelspec": {
      "name": "python3",
      "display_name": "Python 3"
    },
    "language_info": {
      "name": "python"
    }
  },
  "cells": [
    {
      "cell_type": "markdown",
      "metadata": {
        "id": "view-in-github",
        "colab_type": "text"
      },
      "source": [
        "<a href=\"https://colab.research.google.com/github/yellayujin/mulcamp34/blob/main/231229_%EB%94%95%EC%85%94%EB%84%88%EB%A6%AC%2C_%EC%A1%B0%EA%B1%B4%EB%AC%B8%2C_%EB%B0%98%EB%B3%B5%EB%AC%B8%2C_Docstring.ipynb\" target=\"_parent\"><img src=\"https://colab.research.google.com/assets/colab-badge.svg\" alt=\"Open In Colab\"/></a>"
      ]
    },
    {
      "cell_type": "markdown",
      "source": [
        "# 딕셔너리(dictionary)\n",
        "- 구성: key-value\n",
        "  + 문자열, 리스트, tuple: 데이터 조회 시, 인덱싱 또는 슬라이싱\n",
        "  + 딕셔너리에서 값을 조회하는 방법은 key값을 통해 값을 조회\n",
        "- 사용처\n",
        "  + 데이터분석: 대용량 데이터의 임시데이터 만들어 가공 연습(테스트)\n",
        "    JSON 데이터 포맷이 딕셔너리 형태임.\n",
        "    + API 데이터 크롤링, 기본 자료형(JSON)-> 딕셔너리 변환 후 가공"
      ],
      "metadata": {
        "id": "LiCW9D096yxQ"
      }
    },
    {
      "cell_type": "code",
      "source": [
        "# 나라-수도 이름\n",
        "country_capital ={\n",
        "    '대한민국' : '서울', '프랑스' : '파리', '미국' : '워싱턴', '영국' : '런던'\n",
        "}\n",
        "\n",
        "country_capital    # 주의: key값은 중복으로 만들 수 없음"
      ],
      "metadata": {
        "colab": {
          "base_uri": "https://localhost:8080/"
        },
        "id": "eQWeAgLN80jN",
        "outputId": "d5be382c-9fd7-430d-99af-e79409d8c210"
      },
      "execution_count": null,
      "outputs": [
        {
          "output_type": "execute_result",
          "data": {
            "text/plain": [
              "{'대한민국': '서울', '프랑스': '파리', '미국': '워싱턴', '영국': '런던'}"
            ]
          },
          "metadata": {},
          "execution_count": 2
        }
      ]
    },
    {
      "cell_type": "code",
      "source": [
        "country_capital['대한민국']"
      ],
      "metadata": {
        "colab": {
          "base_uri": "https://localhost:8080/",
          "height": 35
        },
        "id": "0ubc9PL397Yj",
        "outputId": "8aa2c99c-20c9-440a-e003-b99b779f252d"
      },
      "execution_count": null,
      "outputs": [
        {
          "output_type": "execute_result",
          "data": {
            "text/plain": [
              "'서울'"
            ],
            "application/vnd.google.colaboratory.intrinsic+json": {
              "type": "string"
            }
          },
          "metadata": {},
          "execution_count": 3
        }
      ]
    },
    {
      "cell_type": "code",
      "source": [
        "data = {1:'버스', 3:'비행기'}\n",
        "data"
      ],
      "metadata": {
        "colab": {
          "base_uri": "https://localhost:8080/"
        },
        "id": "Ey4AA7qQ9-Fd",
        "outputId": "b1fdb50b-1495-4549-c91c-c27887dbc086"
      },
      "execution_count": null,
      "outputs": [
        {
          "output_type": "execute_result",
          "data": {
            "text/plain": [
              "{1: '버스', 3: '비행기'}"
            ]
          },
          "metadata": {},
          "execution_count": 4
        }
      ]
    },
    {
      "cell_type": "code",
      "source": [
        "data[1]   # 여기서의 숫자 1은 리스트, 문자열, tuple에서의 인덱스 번호와는 다른 숫자임! 형태를 보고 착각하지 않도록."
      ],
      "metadata": {
        "colab": {
          "base_uri": "https://localhost:8080/",
          "height": 35
        },
        "id": "I-jOJULR-miI",
        "outputId": "f8f7581e-9fb4-4ee7-91c3-516bd7393360"
      },
      "execution_count": null,
      "outputs": [
        {
          "output_type": "execute_result",
          "data": {
            "text/plain": [
              "'버스'"
            ],
            "application/vnd.google.colaboratory.intrinsic+json": {
              "type": "string"
            }
          },
          "metadata": {},
          "execution_count": 5
        }
      ]
    },
    {
      "cell_type": "code",
      "source": [
        "data2 = {'list1': [1,2,3], 'list2': [4,5,6], 1:'테스트'}\n",
        "data2"
      ],
      "metadata": {
        "colab": {
          "base_uri": "https://localhost:8080/"
        },
        "id": "OUXD3OA--1TS",
        "outputId": "a7a8958d-40d7-4afb-d144-afd82bfd235e"
      },
      "execution_count": null,
      "outputs": [
        {
          "output_type": "execute_result",
          "data": {
            "text/plain": [
              "{'list1': [1, 2, 3], 'list2': [4, 5, 6], 1: '테스트'}"
            ]
          },
          "metadata": {},
          "execution_count": 7
        }
      ]
    },
    {
      "cell_type": "markdown",
      "source": [
        "## 딕셔너리 다루기"
      ],
      "metadata": {
        "id": "noxPpQcm_I8A"
      }
    },
    {
      "cell_type": "code",
      "source": [
        "country_capital"
      ],
      "metadata": {
        "colab": {
          "base_uri": "https://localhost:8080/"
        },
        "id": "x-w0rl87Fub7",
        "outputId": "9378f809-6846-4ce3-fcb5-7f45c8fa7bca"
      },
      "execution_count": null,
      "outputs": [
        {
          "output_type": "execute_result",
          "data": {
            "text/plain": [
              "{'대한민국': '서울', '프랑스': '파리', '미국': '워싱턴', '영국': '런던'}"
            ]
          },
          "metadata": {},
          "execution_count": 8
        }
      ]
    },
    {
      "cell_type": "code",
      "source": [
        "# value값 수정\n",
        "country_capital['대한민국'] = '부산'"
      ],
      "metadata": {
        "id": "cPfOBpPgFyo0"
      },
      "execution_count": null,
      "outputs": []
    },
    {
      "cell_type": "code",
      "source": [
        "# del (딕셔너리는 쌍으로 이루어졌으므로 key나 value등 하나는 남겨두고 하나만 삭제는 안 됨(None으로 표시는 가능))\n",
        "del country_capital['영국']\n",
        "\n",
        "country_capital"
      ],
      "metadata": {
        "colab": {
          "base_uri": "https://localhost:8080/"
        },
        "id": "VMFXUsDWGMmi",
        "outputId": "bafad4f2-d131-440c-88fc-061b1b4d83da"
      },
      "execution_count": null,
      "outputs": [
        {
          "output_type": "execute_result",
          "data": {
            "text/plain": [
              "{'대한민국': '부산', '프랑스': '파리', '미국': '워싱턴'}"
            ]
          },
          "metadata": {},
          "execution_count": 10
        }
      ]
    },
    {
      "cell_type": "code",
      "source": [
        "country_capital['프랑스'] = None"
      ],
      "metadata": {
        "id": "GtR-ENQFGrrD"
      },
      "execution_count": null,
      "outputs": []
    },
    {
      "cell_type": "code",
      "source": [
        "# 새로운 key: value 추가\n",
        "country_capital['일본'] = '도쿄'"
      ],
      "metadata": {
        "id": "UnsJMZRgGxW4"
      },
      "execution_count": null,
      "outputs": []
    },
    {
      "cell_type": "markdown",
      "source": [
        "## 딕셔너리 메서드\n",
        "![image.png](data:image/png;base64,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)"
      ],
      "metadata": {
        "id": "HLhbEHXCG5rl"
      }
    },
    {
      "cell_type": "code",
      "source": [
        "type(country_capital)\n",
        "\n",
        "# country_capital이라고 하는 딕셔너리 객체를 만들었음.\n",
        "# Then 딕셔너리가 보유한 클래스 메서드(.keys()등)를 사용할 수 있음\n"
      ],
      "metadata": {
        "colab": {
          "base_uri": "https://localhost:8080/"
        },
        "id": "84uSX3kaHZV9",
        "outputId": "8c71fe8d-1b33-445d-d461-b0f100f5d793"
      },
      "execution_count": null,
      "outputs": [
        {
          "output_type": "execute_result",
          "data": {
            "text/plain": [
              "dict"
            ]
          },
          "metadata": {},
          "execution_count": 13
        }
      ]
    },
    {
      "cell_type": "code",
      "source": [
        "print(type(country_capital.keys()))    # .keys()는 딕셔너리에서 키 전체를 리스트'형태'로 반환. 이것이 리스트라는 것은 아님. dict_keys임.\n",
        "                                       # 따라서 list메서드(.append()등)를 사용할 수 없음. 쓰고싶으면 적절한 클래스로(list) 변환해야.\n",
        "\n",
        "list(country_capital.keys())    # 데이터형 변환 to list"
      ],
      "metadata": {
        "colab": {
          "base_uri": "https://localhost:8080/"
        },
        "id": "dHGHhWWOIdhV",
        "outputId": "c4708361-cd79-4330-df60-12a71ebf5b5c"
      },
      "execution_count": null,
      "outputs": [
        {
          "output_type": "stream",
          "name": "stdout",
          "text": [
            "<class 'dict_keys'>\n"
          ]
        },
        {
          "output_type": "execute_result",
          "data": {
            "text/plain": [
              "['대한민국', '프랑스', '미국', '일본']"
            ]
          },
          "metadata": {},
          "execution_count": 17
        }
      ]
    },
    {
      "cell_type": "code",
      "source": [
        "# 업데이트 just as '일본': '도쿄'\n",
        "new = {'호주':'캔버라'}\n",
        "country_capital.update(new)"
      ],
      "metadata": {
        "id": "FRgn1UI3I5rU"
      },
      "execution_count": null,
      "outputs": []
    },
    {
      "cell_type": "markdown",
      "source": [
        "# if 조건문\n",
        "- 만약 조건이 True라면 ~를 해라\n",
        "- 참과 거짓을 만드는 것이 포인트!\n",
        "  + 조건문을 문장으로 먼저 만드는 훈련을 하는 것이 중요함.\n",
        "\n"
      ],
      "metadata": {
        "id": "44nHSSOiJkJW"
      }
    },
    {
      "cell_type": "code",
      "source": [
        "x = int(input('점수를 입력하세요: '))\n",
        "\n",
        "if x>=80:\n",
        "  print('합격을 축하드립니다.')\n",
        "\n",
        "elif x>=70:\n",
        "  print('조금만 더!')\n",
        "\n",
        "else:\n",
        "  print('ㅠㅠ')                         # 들여쓰기 안 하면 SyntaxError뜸(indentation이라고는 안 알려줌)"
      ],
      "metadata": {
        "colab": {
          "base_uri": "https://localhost:8080/"
        },
        "id": "aoD5c7zsM29Z",
        "outputId": "fc98f410-ce7f-47a4-ba16-f953493d8e6b"
      },
      "execution_count": null,
      "outputs": [
        {
          "output_type": "stream",
          "name": "stdout",
          "text": [
            "점수를 입력하세요: 78\n",
            "조금만 더!\n"
          ]
        }
      ]
    },
    {
      "cell_type": "code",
      "source": [
        "x = int(input('성적을 입력하세요: '))\n",
        "\n",
        "if x>= 90:\n",
        "  print('귀하의 성적은 A입니다.')\n",
        "\n",
        "elif x>=80:\n",
        "  print('귀하의 성적은 B입니다.')\n",
        "\n",
        "elif x>=70:\n",
        "  print('귀하의 성적은 C입니다.')\n",
        "\n",
        "elif x>=70:\n",
        "  print('귀하의 성적은 D입니다.')\n",
        "\n",
        "else:\n",
        "  print('귀하의 성적은 F입니다.ㅠㅠ')\n"
      ],
      "metadata": {
        "colab": {
          "base_uri": "https://localhost:8080/"
        },
        "id": "uLZ6J9ZxOHIz",
        "outputId": "b68de1c9-c9a3-4122-8ef5-4b8f0d996f25"
      },
      "execution_count": null,
      "outputs": [
        {
          "output_type": "stream",
          "name": "stdout",
          "text": [
            "성적을 입력하세요: 90\n",
            "귀하의 성적은 A입니다.\n"
          ]
        }
      ]
    },
    {
      "cell_type": "code",
      "source": [
        "# 중첩 조건문: if조건문 내부에 또다른 if 조건문 생성\n"
      ],
      "metadata": {
        "id": "dIvoXYhHPh3S"
      },
      "execution_count": null,
      "outputs": []
    },
    {
      "cell_type": "markdown",
      "source": [
        "# 반복문\n",
        "- for loop, while"
      ],
      "metadata": {
        "id": "EMB_RSLFX_wQ"
      }
    },
    {
      "cell_type": "code",
      "source": [
        "# 반복문의 필요성\n",
        "for i in range(10):\n",
        "  print('Hello Python')"
      ],
      "metadata": {
        "colab": {
          "base_uri": "https://localhost:8080/"
        },
        "id": "ak3LMrNwYI1n",
        "outputId": "703d37d4-9cab-4b6d-a018-596c76ef8be2"
      },
      "execution_count": null,
      "outputs": [
        {
          "output_type": "stream",
          "name": "stdout",
          "text": [
            "Hello Python\n",
            "Hello Python\n",
            "Hello Python\n",
            "Hello Python\n",
            "Hello Python\n",
            "Hello Python\n",
            "Hello Python\n",
            "Hello Python\n",
            "Hello Python\n",
            "Hello Python\n"
          ]
        }
      ]
    },
    {
      "cell_type": "markdown",
      "source": [
        "## for-loop 특징\n",
        "- 반복 범위가 주어짐\n"
      ],
      "metadata": {
        "id": "TtLsZw_JayLd"
      }
    },
    {
      "cell_type": "code",
      "source": [
        "for i in range(3):\n",
        "  print(f'{i+1}번째 Hello Python')"
      ],
      "metadata": {
        "colab": {
          "base_uri": "https://localhost:8080/"
        },
        "id": "2A2qC7C4a5Sg",
        "outputId": "189c4009-83df-40dd-dc22-e8befc5f3f2e"
      },
      "execution_count": null,
      "outputs": [
        {
          "output_type": "stream",
          "name": "stdout",
          "text": [
            "1번째 Hello Python\n",
            "2번째 Hello Python\n",
            "3번째 Hello Python\n"
          ]
        }
      ]
    },
    {
      "cell_type": "markdown",
      "source": [
        "- 반복 범위 지정시, 시퀀스 자료형도 사용 가능\n",
        "  + 오늘 블로그 주제: 시퀀스 자료형\n",
        "    대표적인 것: 리스트, 문자열"
      ],
      "metadata": {
        "id": "nV5UNlA-bBY_"
      }
    },
    {
      "cell_type": "code",
      "source": [
        "# 예시1(시퀀스 중 리스트)\n",
        "nums = [1,2,3,4,5]\n",
        "\n",
        "for num in nums:\n",
        "  print(num)"
      ],
      "metadata": {
        "colab": {
          "base_uri": "https://localhost:8080/"
        },
        "id": "jdSYs6aBbxJv",
        "outputId": "095ac539-b547-4293-b88a-08872c7bea18"
      },
      "execution_count": null,
      "outputs": [
        {
          "output_type": "stream",
          "name": "stdout",
          "text": [
            "1\n",
            "2\n",
            "3\n",
            "4\n",
            "5\n"
          ]
        }
      ]
    },
    {
      "cell_type": "code",
      "source": [
        "# 예시2(시퀀스 중 문자열)\n",
        "strings = 'Hello'\n",
        "for text in strings:\n",
        "  print(text)"
      ],
      "metadata": {
        "colab": {
          "base_uri": "https://localhost:8080/"
        },
        "id": "7PDgecAHcaWJ",
        "outputId": "cad46df2-9433-4220-c298-192704c57ef1"
      },
      "execution_count": null,
      "outputs": [
        {
          "output_type": "stream",
          "name": "stdout",
          "text": [
            "H\n",
            "e\n",
            "l\n",
            "l\n",
            "o\n"
          ]
        }
      ]
    },
    {
      "cell_type": "code",
      "source": [
        "# 예시3(시퀀스 중 튜플)\n",
        "tuples = (1,2,3,4)\n",
        "for num in tuples:\n",
        "  print(num)"
      ],
      "metadata": {
        "colab": {
          "base_uri": "https://localhost:8080/"
        },
        "id": "ogdJm8xvcgaL",
        "outputId": "74696b12-4e4f-48b5-fb5f-975e9bfd6160"
      },
      "execution_count": null,
      "outputs": [
        {
          "output_type": "stream",
          "name": "stdout",
          "text": [
            "1\n",
            "2\n",
            "3\n",
            "4\n"
          ]
        }
      ]
    },
    {
      "cell_type": "code",
      "source": [
        "# 예시4(시퀀스 중 딕셔너리)\n",
        "country_capital\n",
        "for country in country_capital:\n",
        "  print(country)                                 # key값만 출력됨.\n",
        "\n",
        "  print(country_capital[country])                # value원하면\n",
        "\n",
        "  print(f'{country}의 수도는 {country_capital[country]}이다.')"
      ],
      "metadata": {
        "colab": {
          "base_uri": "https://localhost:8080/"
        },
        "id": "r9A5ehWDcuUP",
        "outputId": "49005e13-68a6-4fd3-f160-178077137fe6"
      },
      "execution_count": null,
      "outputs": [
        {
          "output_type": "stream",
          "name": "stdout",
          "text": [
            "대한민국\n",
            "부산\n",
            "대한민국의 수도는 부산이다.\n",
            "프랑스\n",
            "None\n",
            "프랑스의 수도는 None이다.\n",
            "미국\n",
            "워싱턴\n",
            "미국의 수도는 워싱턴이다.\n",
            "일본\n",
            "도쿄\n",
            "일본의 수도는 도쿄이다.\n",
            "호주\n",
            "캔버라\n",
            "호주의 수도는 캔버라이다.\n"
          ]
        }
      ]
    },
    {
      "cell_type": "code",
      "source": [
        "for country in country_capital:\n",
        "  print(f'{country}의 수도는 {country_capital[country]}이다.')"
      ],
      "metadata": {
        "colab": {
          "base_uri": "https://localhost:8080/"
        },
        "id": "eKUD4Zxhcla7",
        "outputId": "773e9579-72c0-4685-83cb-caed17c82f7f"
      },
      "execution_count": null,
      "outputs": [
        {
          "output_type": "stream",
          "name": "stdout",
          "text": [
            "대한민국의 수도는 부산이다.\n",
            "프랑스의 수도는 None이다.\n",
            "미국의 수도는 워싱턴이다.\n",
            "일본의 수도는 도쿄이다.\n",
            "호주의 수도는 캔버라이다.\n"
          ]
        }
      ]
    },
    {
      "cell_type": "code",
      "source": [
        "# 중첩(Nested) for문\n",
        "# 반복문 내 또다른 반복문\n",
        "x_list = ['x1', 'x2']\n",
        "y_list = ['y1', 'y2']\n",
        "\n",
        "print('x1 y1')\n",
        "print('x1 y2')\n",
        "print('x2 y1')\n",
        "print('x2 y2')"
      ],
      "metadata": {
        "colab": {
          "base_uri": "https://localhost:8080/"
        },
        "id": "Ca-J9f4Gzqsz",
        "outputId": "a3e6c317-801f-4382-f60f-5b074a8c9f3f"
      },
      "execution_count": null,
      "outputs": [
        {
          "output_type": "stream",
          "name": "stdout",
          "text": [
            "x1 y1\n",
            "x1 y2\n",
            "x2 y1\n",
            "x2 y2\n"
          ]
        }
      ]
    },
    {
      "cell_type": "code",
      "source": [
        "for x in x_list:\n",
        "  for y in y_list:\n",
        "    print(x,y)"
      ],
      "metadata": {
        "colab": {
          "base_uri": "https://localhost:8080/"
        },
        "id": "UVjGgumSz-bt",
        "outputId": "062b62a1-9487-4d70-edda-96f8c2d7e695"
      },
      "execution_count": null,
      "outputs": [
        {
          "output_type": "stream",
          "name": "stdout",
          "text": [
            "x1 y1\n",
            "x1 y2\n",
            "x2 y1\n",
            "x2 y2\n"
          ]
        }
      ]
    },
    {
      "cell_type": "code",
      "source": [
        "for x in range(2,10):\n",
        "  for y in range(1,10):\n",
        "    if y==9:\n",
        "      print(f'{x}*{y}={x*y}\\n')         # 이 대신 안쪽 for문 바깥에 print('--')써도 됨! better\n",
        "    else:\n",
        "      print(f'{x}*{y}={x*y}')"
      ],
      "metadata": {
        "colab": {
          "base_uri": "https://localhost:8080/"
        },
        "id": "rC93bL_o0M1-",
        "outputId": "e7729912-f5f1-4895-b15d-3148bb3f9695"
      },
      "execution_count": null,
      "outputs": [
        {
          "output_type": "stream",
          "name": "stdout",
          "text": [
            "2*1=2\n",
            "2*2=4\n",
            "2*3=6\n",
            "2*4=8\n",
            "2*5=10\n",
            "2*6=12\n",
            "2*7=14\n",
            "2*8=16\n",
            "2*9=18\n",
            "\n",
            "3*1=3\n",
            "3*2=6\n",
            "3*3=9\n",
            "3*4=12\n",
            "3*5=15\n",
            "3*6=18\n",
            "3*7=21\n",
            "3*8=24\n",
            "3*9=27\n",
            "\n",
            "4*1=4\n",
            "4*2=8\n",
            "4*3=12\n",
            "4*4=16\n",
            "4*5=20\n",
            "4*6=24\n",
            "4*7=28\n",
            "4*8=32\n",
            "4*9=36\n",
            "\n",
            "5*1=5\n",
            "5*2=10\n",
            "5*3=15\n",
            "5*4=20\n",
            "5*5=25\n",
            "5*6=30\n",
            "5*7=35\n",
            "5*8=40\n",
            "5*9=45\n",
            "\n",
            "6*1=6\n",
            "6*2=12\n",
            "6*3=18\n",
            "6*4=24\n",
            "6*5=30\n",
            "6*6=36\n",
            "6*7=42\n",
            "6*8=48\n",
            "6*9=54\n",
            "\n",
            "7*1=7\n",
            "7*2=14\n",
            "7*3=21\n",
            "7*4=28\n",
            "7*5=35\n",
            "7*6=42\n",
            "7*7=49\n",
            "7*8=56\n",
            "7*9=63\n",
            "\n",
            "8*1=8\n",
            "8*2=16\n",
            "8*3=24\n",
            "8*4=32\n",
            "8*5=40\n",
            "8*6=48\n",
            "8*7=56\n",
            "8*8=64\n",
            "8*9=72\n",
            "\n",
            "9*1=9\n",
            "9*2=18\n",
            "9*3=27\n",
            "9*4=36\n",
            "9*5=45\n",
            "9*6=54\n",
            "9*7=63\n",
            "9*8=72\n",
            "9*9=81\n",
            "\n"
          ]
        }
      ]
    },
    {
      "cell_type": "code",
      "source": [
        "for x in range(1, 10):\n",
        "  for y in range(1, 10):\n",
        "    print(f'{x} * {y} = {x * y}')\n",
        "  print(\"---\")"
      ],
      "metadata": {
        "colab": {
          "base_uri": "https://localhost:8080/"
        },
        "id": "iAHUamh440Jp",
        "outputId": "95b63af1-d2eb-4592-dc99-6893b66a194c"
      },
      "execution_count": null,
      "outputs": [
        {
          "output_type": "stream",
          "name": "stdout",
          "text": [
            "1 * 1 = 1\n",
            "1 * 2 = 2\n",
            "1 * 3 = 3\n",
            "1 * 4 = 4\n",
            "1 * 5 = 5\n",
            "1 * 6 = 6\n",
            "1 * 7 = 7\n",
            "1 * 8 = 8\n",
            "1 * 9 = 9\n",
            "---\n",
            "2 * 1 = 2\n",
            "2 * 2 = 4\n",
            "2 * 3 = 6\n",
            "2 * 4 = 8\n",
            "2 * 5 = 10\n",
            "2 * 6 = 12\n",
            "2 * 7 = 14\n",
            "2 * 8 = 16\n",
            "2 * 9 = 18\n",
            "---\n",
            "3 * 1 = 3\n",
            "3 * 2 = 6\n",
            "3 * 3 = 9\n",
            "3 * 4 = 12\n",
            "3 * 5 = 15\n",
            "3 * 6 = 18\n",
            "3 * 7 = 21\n",
            "3 * 8 = 24\n",
            "3 * 9 = 27\n",
            "---\n",
            "4 * 1 = 4\n",
            "4 * 2 = 8\n",
            "4 * 3 = 12\n",
            "4 * 4 = 16\n",
            "4 * 5 = 20\n",
            "4 * 6 = 24\n",
            "4 * 7 = 28\n",
            "4 * 8 = 32\n",
            "4 * 9 = 36\n",
            "---\n",
            "5 * 1 = 5\n",
            "5 * 2 = 10\n",
            "5 * 3 = 15\n",
            "5 * 4 = 20\n",
            "5 * 5 = 25\n",
            "5 * 6 = 30\n",
            "5 * 7 = 35\n",
            "5 * 8 = 40\n",
            "5 * 9 = 45\n",
            "---\n",
            "6 * 1 = 6\n",
            "6 * 2 = 12\n",
            "6 * 3 = 18\n",
            "6 * 4 = 24\n",
            "6 * 5 = 30\n",
            "6 * 6 = 36\n",
            "6 * 7 = 42\n",
            "6 * 8 = 48\n",
            "6 * 9 = 54\n",
            "---\n",
            "7 * 1 = 7\n",
            "7 * 2 = 14\n",
            "7 * 3 = 21\n",
            "7 * 4 = 28\n",
            "7 * 5 = 35\n",
            "7 * 6 = 42\n",
            "7 * 7 = 49\n",
            "7 * 8 = 56\n",
            "7 * 9 = 63\n",
            "---\n",
            "8 * 1 = 8\n",
            "8 * 2 = 16\n",
            "8 * 3 = 24\n",
            "8 * 4 = 32\n",
            "8 * 5 = 40\n",
            "8 * 6 = 48\n",
            "8 * 7 = 56\n",
            "8 * 8 = 64\n",
            "8 * 9 = 72\n",
            "---\n",
            "9 * 1 = 9\n",
            "9 * 2 = 18\n",
            "9 * 3 = 27\n",
            "9 * 4 = 36\n",
            "9 * 5 = 45\n",
            "9 * 6 = 54\n",
            "9 * 7 = 63\n",
            "9 * 8 = 72\n",
            "9 * 9 = 81\n",
            "---\n"
          ]
        }
      ]
    },
    {
      "cell_type": "code",
      "source": [
        "names = ['A', 'B', 'C']\n",
        "ages = [10, 20, 30]\n",
        "\n",
        "for name, age in zip(names, ages):\n",
        "  print(name, age)"
      ],
      "metadata": {
        "colab": {
          "base_uri": "https://localhost:8080/"
        },
        "id": "aNCjyc5Z47Xs",
        "outputId": "c6aec182-165e-48ae-be35-dfa5e192e724"
      },
      "execution_count": null,
      "outputs": [
        {
          "output_type": "stream",
          "name": "stdout",
          "text": [
            "A 10\n",
            "B 20\n",
            "C 30\n"
          ]
        }
      ]
    },
    {
      "cell_type": "code",
      "source": [
        "for idx, name in enumerate(names):\n",
        "  print(idx, name)"
      ],
      "metadata": {
        "colab": {
          "base_uri": "https://localhost:8080/"
        },
        "id": "kLpHpBWx5KII",
        "outputId": "b90aa1c5-aa39-45e9-8133-abb05bb82214"
      },
      "execution_count": null,
      "outputs": [
        {
          "output_type": "stream",
          "name": "stdout",
          "text": [
            "0 A\n",
            "1 B\n",
            "2 C\n"
          ]
        }
      ]
    },
    {
      "cell_type": "markdown",
      "source": [
        "## while문 특징\n",
        "- for-loop 특징: 항상 반복문의 범위를 지정한다.\n",
        "  + 몇 번 반복문을 수행할지 숫자로 지정\n",
        "- while 특징: 조건문이 False가 될 때까지 반복문 수행\n",
        "  + 조건문이 True면 무한 수행"
      ],
      "metadata": {
        "id": "XSBCnDu38nwh"
      }
    },
    {
      "cell_type": "code",
      "source": [
        "# 초기값 지정\n",
        "i = 1\n",
        "n = 3\n",
        "\n",
        "while i<=n:                # 특정 조건에서 이 조건문이 False가 되도록 코드를 작성하는 것이 포인트!\n",
        "  print(f'현재 {i}')\n",
        "  i += 1"
      ],
      "metadata": {
        "colab": {
          "base_uri": "https://localhost:8080/"
        },
        "id": "tGwafwgA9C5m",
        "outputId": "c7229239-ae39-4730-a346-4e53d7e15baa"
      },
      "execution_count": null,
      "outputs": [
        {
          "output_type": "stream",
          "name": "stdout",
          "text": [
            "현재 1\n",
            "현재 2\n",
            "현재 3\n"
          ]
        }
      ]
    },
    {
      "cell_type": "markdown",
      "source": [
        "## break문\n",
        "- 중간에 반복문 강제 종료"
      ],
      "metadata": {
        "id": "4pr7UCGR_iUA"
      }
    },
    {
      "cell_type": "markdown",
      "source": [
        "## 문자열과 for-loop"
      ],
      "metadata": {
        "id": "G2hDJI18DxRA"
      }
    },
    {
      "cell_type": "code",
      "source": [
        "texts = 'Python'\n",
        "for text in texts:\n",
        "  print(text)\n",
        "  if text == 't':\n",
        "    break"
      ],
      "metadata": {
        "colab": {
          "base_uri": "https://localhost:8080/"
        },
        "id": "su24h4JnD2Hg",
        "outputId": "e5ca4beb-0030-49a4-fdbb-f8c8f684580a"
      },
      "execution_count": null,
      "outputs": [
        {
          "output_type": "stream",
          "name": "stdout",
          "text": [
            "P\n",
            "y\n",
            "t\n"
          ]
        }
      ]
    },
    {
      "cell_type": "markdown",
      "source": [
        "## 리스트 컴프리헨션(List Comprehension)\n",
        "- for-loop 및 for-loop if조건문 한 줄로 처리(pythonic code)\n",
        "- https://docs.python.org/3/tutorial/datastructures.html#list-comprehensions\n",
        "- 시각화 라이브러리(matplotlib, plotly) 옵션 설정 시 자주 사용"
      ],
      "metadata": {
        "id": "sourCdAZEqQW"
      }
    },
    {
      "cell_type": "code",
      "source": [
        "# pythonic 코드\n",
        "numbers = [1,2,3,4,5]\n",
        "result = [1,4,9,16,25] # 를 만들고싶음"
      ],
      "metadata": {
        "id": "jWaKwP_zE1uC"
      },
      "execution_count": null,
      "outputs": []
    },
    {
      "cell_type": "code",
      "source": [
        "numbers = [1,2,3,4,5]\n",
        "temp1 = 1 ** 2\n",
        "temp2 = 2 ** 2\n",
        "result = []   # 빈 리스트 만들기\n",
        "\n",
        "result.append(temp1)\n",
        "result.append(temp2)         # idea\n",
        "print(result)"
      ],
      "metadata": {
        "colab": {
          "base_uri": "https://localhost:8080/"
        },
        "id": "XBmdFLmfFROh",
        "outputId": "57e106ec-b666-4c49-8d04-f18d7dffeceb"
      },
      "execution_count": null,
      "outputs": [
        {
          "output_type": "stream",
          "name": "stdout",
          "text": [
            "[1]\n"
          ]
        }
      ]
    },
    {
      "cell_type": "code",
      "source": [
        "numbers = [1,2,3,4,5]        # 실행\n",
        "result = []\n",
        "\n",
        "for i in numbers:\n",
        "  result.append(i ** 2)\n",
        "\n",
        "result"
      ],
      "metadata": {
        "colab": {
          "base_uri": "https://localhost:8080/"
        },
        "id": "YiSWYn2JFgd0",
        "outputId": "1bd047a6-b02f-42d7-a16d-ab5bb4284fa6"
      },
      "execution_count": null,
      "outputs": [
        {
          "output_type": "execute_result",
          "data": {
            "text/plain": [
              "[1, 4, 9, 16, 25]"
            ]
          },
          "metadata": {},
          "execution_count": 72
        }
      ]
    },
    {
      "cell_type": "code",
      "source": [
        "# 한 줄로 시행\n",
        "numbers = [1,2,3,4,5]\n",
        "result = [i ** 2 for i in numbers]        # 문법 차이 있음! 꼭 숙지\n",
        "result"
      ],
      "metadata": {
        "colab": {
          "base_uri": "https://localhost:8080/"
        },
        "id": "dMBej859GKf-",
        "outputId": "0f133501-6d28-47fa-aad3-8d8928d6c772"
      },
      "execution_count": null,
      "outputs": [
        {
          "output_type": "execute_result",
          "data": {
            "text/plain": [
              "[1, 4, 9, 16, 25]"
            ]
          },
          "metadata": {},
          "execution_count": 74
        }
      ]
    },
    {
      "cell_type": "code",
      "source": [
        "result.append(i ** 2 for i in numbers)    # 이렇게 하면 결과 좀 다름.. 문법 숙지해야\n",
        "result"
      ],
      "metadata": {
        "colab": {
          "base_uri": "https://localhost:8080/"
        },
        "id": "Tyb7AmorGgx8",
        "outputId": "c301a00f-bb79-45bb-e8ab-43c6705d6e65"
      },
      "execution_count": null,
      "outputs": [
        {
          "output_type": "execute_result",
          "data": {
            "text/plain": [
              "[1,\n",
              " 4,\n",
              " 9,\n",
              " 16,\n",
              " 25,\n",
              " <generator object <genexpr> at 0x7b38ebb9a650>,\n",
              " <generator object <genexpr> at 0x7b38ebb9a3b0>]"
            ]
          },
          "metadata": {},
          "execution_count": 76
        }
      ]
    },
    {
      "cell_type": "code",
      "source": [
        "numbers = [1,2,3,4,5]\n",
        "result = [i ** 2 for i in numbers if i >= 3]\n",
        "result"
      ],
      "metadata": {
        "colab": {
          "base_uri": "https://localhost:8080/"
        },
        "id": "PGyttsyhK0jY",
        "outputId": "50e07440-3e5d-4305-d259-f8fa5b750bbd"
      },
      "execution_count": null,
      "outputs": [
        {
          "output_type": "execute_result",
          "data": {
            "text/plain": [
              "[9, 16, 25]"
            ]
          },
          "metadata": {},
          "execution_count": 77
        }
      ]
    },
    {
      "cell_type": "markdown",
      "source": [
        "# 파이썬 문서화(Docstring)\n",
        "- (docstring의 3가지 형식)https://betterprogramming.pub/3-different-docstring-formats-for-python-d27be81e0d68\n",
        "- https://pandas.pydata.org/docs/reference/api/pandas.read_csv.html\n",
        "- for readers, **양식 맞추어 작성**\n",
        "- 프로젝트 진행\n",
        "  + 3주 / 4주 ==> 마지막주에는\n",
        "    - 2-3명, PPT 보고서 작성\n",
        "    - 남은 인원, Docstring을 사용해서, 문서화\n",
        "  + help() 명령어를 사용해서 불러오기 할 수 있음 (예. read_csv() 문서처럼 출력이 가능)\n",
        "\n"
      ],
      "metadata": {
        "id": "VH7nXAGeMQdU"
      }
    },
    {
      "cell_type": "code",
      "source": [
        "def myPower(n):\n",
        "  '''숫자 n을 입력하면 n의 거듭제곱 반환'''\n",
        "  result = n ** 2\n",
        "  return result"
      ],
      "metadata": {
        "id": "Ga4CjbBURKvR"
      },
      "execution_count": null,
      "outputs": []
    },
    {
      "cell_type": "code",
      "source": [
        "print(myPower(3))"
      ],
      "metadata": {
        "colab": {
          "base_uri": "https://localhost:8080/"
        },
        "id": "uoCNuahxRg_1",
        "outputId": "fb1315f4-e6e7-4dc6-9588-6754909d5e81"
      },
      "execution_count": null,
      "outputs": [
        {
          "output_type": "stream",
          "name": "stdout",
          "text": [
            "9\n"
          ]
        }
      ]
    },
    {
      "cell_type": "code",
      "source": [
        "print(myPower.__doc__)   # 주석처리했던 내용 나옴"
      ],
      "metadata": {
        "colab": {
          "base_uri": "https://localhost:8080/"
        },
        "id": "iKVjvR9lRjJw",
        "outputId": "87929e0c-6c3f-40c3-b2a6-9a815e7d4382"
      },
      "execution_count": null,
      "outputs": [
        {
          "output_type": "stream",
          "name": "stdout",
          "text": [
            "숫자 n을 입력하면 n의 거듭제곱 반환\n"
          ]
        }
      ]
    },
    {
      "cell_type": "code",
      "source": [
        "print(print.__doc__)     # 빅분기 실기에서 help명령어 모르면 큰일남ㅜㅜ"
      ],
      "metadata": {
        "colab": {
          "base_uri": "https://localhost:8080/"
        },
        "id": "Yr6N8m_kR06M",
        "outputId": "05180beb-24fc-48e0-bfca-10bbc3356782"
      },
      "execution_count": null,
      "outputs": [
        {
          "output_type": "stream",
          "name": "stdout",
          "text": [
            "print(value, ..., sep=' ', end='\\n', file=sys.stdout, flush=False)\n",
            "\n",
            "Prints the values to a stream, or to sys.stdout by default.\n",
            "Optional keyword arguments:\n",
            "file:  a file-like object (stream); defaults to the current sys.stdout.\n",
            "sep:   string inserted between values, default a space.\n",
            "end:   string appended after the last value, default a newline.\n",
            "flush: whether to forcibly flush the stream.\n"
          ]
        }
      ]
    },
    {
      "cell_type": "code",
      "source": [
        "import pandas\n",
        "pandas.merge.__doc__"
      ],
      "metadata": {
        "colab": {
          "base_uri": "https://localhost:8080/",
          "height": 145
        },
        "id": "3mUXBbtVR9Qr",
        "outputId": "d859bd82-4d40-4915-d09d-939791736873"
      },
      "execution_count": null,
      "outputs": [
        {
          "output_type": "execute_result",
          "data": {
            "text/plain": [
              "'\\nMerge DataFrame or named Series objects with a database-style join.\\n\\nA named Series object is treated as a DataFrame with a single named column.\\n\\nThe join is done on columns or indexes. If joining columns on\\ncolumns, the DataFrame indexes *will be ignored*. Otherwise if joining indexes\\non indexes or indexes on a column or columns, the index will be passed on.\\nWhen performing a cross merge, no column specifications to merge on are\\nallowed.\\n\\n.. warning::\\n\\n    If both key columns contain rows where the key is a null value, those\\n    rows will be matched against each other. This is different from usual SQL\\n    join behaviour and can lead to unexpected results.\\n\\nParameters\\n----------\\nleft : DataFrame\\nright : DataFrame or named Series\\n    Object to merge with.\\nhow : {\\'left\\', \\'right\\', \\'outer\\', \\'inner\\', \\'cross\\'}, default \\'inner\\'\\n    Type of merge to be performed.\\n\\n    * left: use only keys from left frame, similar to a SQL left outer join;\\n      preserve key order.\\n    * right: use only keys from right frame, similar to a SQL right outer join;\\n      preserve key order.\\n    * outer: use union of keys from both frames, similar to a SQL full outer\\n      join; sort keys lexicographically.\\n    * inner: use intersection of keys from both frames, similar to a SQL inner\\n      join; preserve the order of the left keys.\\n    * cross: creates the cartesian product from both frames, preserves the order\\n      of the left keys.\\n\\n      .. versionadded:: 1.2.0\\n\\non : label or list\\n    Column or index level names to join on. These must be found in both\\n    DataFrames. If `on` is None and not merging on indexes then this defaults\\n    to the intersection of the columns in both DataFrames.\\nleft_on : label or list, or array-like\\n    Column or index level names to join on in the left DataFrame. Can also\\n    be an array or list of arrays of the length of the left DataFrame.\\n    These arrays are treated as if they are columns.\\nright_on : label or list, or array-like\\n    Column or index level names to join on in the right DataFrame. Can also\\n    be an array or list of arrays of the length of the right DataFrame.\\n    These arrays are treated as if they are columns.\\nleft_index : bool, default False\\n    Use the index from the left DataFrame as the join key(s). If it is a\\n    MultiIndex, the number of keys in the other DataFrame (either the index\\n    or a number of columns) must match the number of levels.\\nright_index : bool, default False\\n    Use the index from the right DataFrame as the join key. Same caveats as\\n    left_index.\\nsort : bool, default False\\n    Sort the join keys lexicographically in the result DataFrame. If False,\\n    the order of the join keys depends on the join type (how keyword).\\nsuffixes : list-like, default is (\"_x\", \"_y\")\\n    A length-2 sequence where each element is optionally a string\\n    indicating the suffix to add to overlapping column names in\\n    `left` and `right` respectively. Pass a value of `None` instead\\n    of a string to indicate that the column name from `left` or\\n    `right` should be left as-is, with no suffix. At least one of the\\n    values must not be None.\\ncopy : bool, default True\\n    If False, avoid copy if possible.\\nindicator : bool or str, default False\\n    If True, adds a column to the output DataFrame called \"_merge\" with\\n    information on the source of each row. The column can be given a different\\n    name by providing a string argument. The column will have a Categorical\\n    type with the value of \"left_only\" for observations whose merge key only\\n    appears in the left DataFrame, \"right_only\" for observations\\n    whose merge key only appears in the right DataFrame, and \"both\"\\n    if the observation\\'s merge key is found in both DataFrames.\\n\\nvalidate : str, optional\\n    If specified, checks if merge is of specified type.\\n\\n    * \"one_to_one\" or \"1:1\": check if merge keys are unique in both\\n      left and right datasets.\\n    * \"one_to_many\" or \"1:m\": check if merge keys are unique in left\\n      dataset.\\n    * \"many_to_one\" or \"m:1\": check if merge keys are unique in right\\n      dataset.\\n    * \"many_to_many\" or \"m:m\": allowed, but does not result in checks.\\n\\nReturns\\n-------\\nDataFrame\\n    A DataFrame of the two merged objects.\\n\\nSee Also\\n--------\\nmerge_ordered : Merge with optional filling/interpolation.\\nmerge_asof : Merge on nearest keys.\\nDataFrame.join : Similar method using indices.\\n\\nNotes\\n-----\\nSupport for specifying index levels as the `on`, `left_on`, and\\n`right_on` parameters was added in version 0.23.0\\nSupport for merging named Series objects was added in version 0.24.0\\n\\nExamples\\n--------\\n>>> df1 = pd.DataFrame({\\'lkey\\': [\\'foo\\', \\'bar\\', \\'baz\\', \\'foo\\'],\\n...                     \\'value\\': [1, 2, 3, 5]})\\n>>> df2 = pd.DataFrame({\\'rkey\\': [\\'foo\\', \\'bar\\', \\'baz\\', \\'foo\\'],\\n...                     \\'value\\': [5, 6, 7, 8]})\\n>>> df1\\n    lkey value\\n0   foo      1\\n1   bar      2\\n2   baz      3\\n3   foo      5\\n>>> df2\\n    rkey value\\n0   foo      5\\n1   bar      6\\n2   baz      7\\n3   foo      8\\n\\nMerge df1 and df2 on the lkey and rkey columns. The value columns have\\nthe default suffixes, _x and _y, appended.\\n\\n>>> df1.merge(df2, left_on=\\'lkey\\', right_on=\\'rkey\\')\\n  lkey  value_x rkey  value_y\\n0  foo        1  foo        5\\n1  foo        1  foo        8\\n2  foo        5  foo        5\\n3  foo        5  foo        8\\n4  bar        2  bar        6\\n5  baz        3  baz        7\\n\\nMerge DataFrames df1 and df2 with specified left and right suffixes\\nappended to any overlapping columns.\\n\\n>>> df1.merge(df2, left_on=\\'lkey\\', right_on=\\'rkey\\',\\n...           suffixes=(\\'_left\\', \\'_right\\'))\\n  lkey  value_left rkey  value_right\\n0  foo           1  foo            5\\n1  foo           1  foo            8\\n2  foo           5  foo            5\\n3  foo           5  foo            8\\n4  bar           2  bar            6\\n5  baz           3  baz            7\\n\\nMerge DataFrames df1 and df2, but raise an exception if the DataFrames have\\nany overlapping columns.\\n\\n>>> df1.merge(df2, left_on=\\'lkey\\', right_on=\\'rkey\\', suffixes=(False, False))\\nTraceback (most recent call last):\\n...\\nValueError: columns overlap but no suffix specified:\\n    Index([\\'value\\'], dtype=\\'object\\')\\n\\n>>> df1 = pd.DataFrame({\\'a\\': [\\'foo\\', \\'bar\\'], \\'b\\': [1, 2]})\\n>>> df2 = pd.DataFrame({\\'a\\': [\\'foo\\', \\'baz\\'], \\'c\\': [3, 4]})\\n>>> df1\\n      a  b\\n0   foo  1\\n1   bar  2\\n>>> df2\\n      a  c\\n0   foo  3\\n1   baz  4\\n\\n>>> df1.merge(df2, how=\\'inner\\', on=\\'a\\')\\n      a  b  c\\n0   foo  1  3\\n\\n>>> df1.merge(df2, how=\\'left\\', on=\\'a\\')\\n      a  b  c\\n0   foo  1  3.0\\n1   bar  2  NaN\\n\\n>>> df1 = pd.DataFrame({\\'left\\': [\\'foo\\', \\'bar\\']})\\n>>> df2 = pd.DataFrame({\\'right\\': [7, 8]})\\n>>> df1\\n    left\\n0   foo\\n1   bar\\n>>> df2\\n    right\\n0   7\\n1   8\\n\\n>>> df1.merge(df2, how=\\'cross\\')\\n   left  right\\n0   foo      7\\n1   foo      8\\n2   bar      7\\n3   bar      8\\n'"
            ],
            "application/vnd.google.colaboratory.intrinsic+json": {
              "type": "string"
            }
          },
          "metadata": {},
          "execution_count": 84
        }
      ]
    },
    {
      "cell_type": "code",
      "source": [
        "def random(sep, header):\n",
        "  '''\n",
        "  This returns the sum of sep and header.\n",
        "\n",
        "    Parameters:\n",
        "      sep (str): ~~~~~(예시는 위ㅣ의 링크 참고)\n",
        "      header (int): ~~~~~~~~\n",
        "\n",
        "    Returns:\n",
        "      c (int): Sum of ~~\n",
        "  '''\n",
        "\n",
        "  c = sep + header\n",
        "  return c\n",
        "\n"
      ],
      "metadata": {
        "id": "R_XDFDzhSGlV"
      },
      "execution_count": null,
      "outputs": []
    },
    {
      "cell_type": "code",
      "source": [
        "print(random.__doc__)"
      ],
      "metadata": {
        "colab": {
          "base_uri": "https://localhost:8080/"
        },
        "id": "TiZ3VzVQTNeC",
        "outputId": "d480e87c-eb3b-441d-ae10-6ac9a9f996c1"
      },
      "execution_count": null,
      "outputs": [
        {
          "output_type": "stream",
          "name": "stdout",
          "text": [
            "\n",
            "  This returns the sum of sep and header.\n",
            "\n",
            "    Parameters:\n",
            "      sep (str): ~~~~~(예시는 위ㅣ의 링크 참고)\n",
            "      header (int): ~~~~~~~~\n",
            "    \n",
            "    Returns:\n",
            "      c (int): Sum of ~~\n",
            "  \n"
          ]
        }
      ]
    },
    {
      "cell_type": "markdown",
      "source": [
        "## 클래스 상속\n",
        "- 대분류 > 중분류 > 소분류\n",
        "\n"
      ],
      "metadata": {
        "id": "XqYAUEBCTUMd"
      }
    },
    {
      "cell_type": "code",
      "source": [
        "class Animal:\n",
        "  # Attribute(= 클래스 변수) 정의\n",
        "  name = \"\"\n",
        "\n",
        "  # 공통함수\n",
        "  def eat(self):\n",
        "    print(\"I eat\")\n",
        "\n",
        "\n",
        "class Dog(Animal):   # 클래스 상속을 했다 = 동물에서 개로 기능을 부여함(=> name = \"\"라고 쓸 필요 X)\n",
        "\n",
        "  # 새로운 메서드\n",
        "  def dance(self):\n",
        "    print(f'{self.name} Dog dances.')\n"
      ],
      "metadata": {
        "id": "ZTcUWikKZU6b"
      },
      "execution_count": null,
      "outputs": []
    },
    {
      "cell_type": "code",
      "source": [
        "# 객체 생성\n",
        "a = Dog()\n",
        "a.name = '두부'\n",
        "\n",
        "a.eat()      # .eat()은 Animal의 메서드인데 상속받아서 가능"
      ],
      "metadata": {
        "colab": {
          "base_uri": "https://localhost:8080/"
        },
        "id": "awFAMRT7Z3Nt",
        "outputId": "0e70ae89-8c66-413e-da4a-974d627566f9"
      },
      "execution_count": null,
      "outputs": [
        {
          "output_type": "stream",
          "name": "stdout",
          "text": [
            "I eat\n"
          ]
        }
      ]
    },
    {
      "cell_type": "code",
      "source": [
        "b = Animal()\n",
        "b.name = '코코'\n",
        "\n",
        "b.eat()"
      ],
      "metadata": {
        "colab": {
          "base_uri": "https://localhost:8080/"
        },
        "id": "Y5iDeUAmbWoe",
        "outputId": "1c25a992-8b70-4aff-aaad-6035d419a941"
      },
      "execution_count": null,
      "outputs": [
        {
          "output_type": "stream",
          "name": "stdout",
          "text": [
            "I eat\n"
          ]
        }
      ]
    },
    {
      "cell_type": "code",
      "source": [
        "b.dance()\n",
        "# AttributeError: Animal에는 dance메서드가 없음. a에서는 상속을 받아서 가능했음."
      ],
      "metadata": {
        "colab": {
          "base_uri": "https://localhost:8080/",
          "height": 182
        },
        "id": "OE84XvSObwAO",
        "outputId": "d5b91fb8-9908-4c84-b5cd-720452b6d5de"
      },
      "execution_count": null,
      "outputs": [
        {
          "output_type": "error",
          "ename": "AttributeError",
          "evalue": "ignored",
          "traceback": [
            "\u001b[0;31m---------------------------------------------------------------------------\u001b[0m",
            "\u001b[0;31mAttributeError\u001b[0m                            Traceback (most recent call last)",
            "\u001b[0;32m<ipython-input-95-a091c07220b8>\u001b[0m in \u001b[0;36m<cell line: 1>\u001b[0;34m()\u001b[0m\n\u001b[0;32m----> 1\u001b[0;31m \u001b[0mb\u001b[0m\u001b[0;34m.\u001b[0m\u001b[0mdance\u001b[0m\u001b[0;34m(\u001b[0m\u001b[0;34m)\u001b[0m\u001b[0;34m\u001b[0m\u001b[0;34m\u001b[0m\u001b[0m\n\u001b[0m",
            "\u001b[0;31mAttributeError\u001b[0m: 'Animal' object has no attribute 'dance'"
          ]
        }
      ]
    },
    {
      "cell_type": "markdown",
      "source": [
        "## 클래스 Docstring\n"
      ],
      "metadata": {
        "id": "SCvukE2gcVtl"
      }
    },
    {
      "cell_type": "code",
      "source": [
        "class Person:\n",
        "  \"\"\"\n",
        "  자기소개하는 Person 클래스.\n",
        "\n",
        "  Attributes:\n",
        "  -----------\n",
        "    name: str\n",
        "      사람의 이름을 의미\n",
        "    age: int\n",
        "      사람의 나이를 의미\n",
        "    grade: int\n",
        "      사람의 현재 학년을 의미\n",
        "\n",
        "  Methods\n",
        "  ----------\n",
        "  info(comment=\"\"):\n",
        "    사람의 개인정보를 출력\n",
        "\n",
        "  \"\"\"\n",
        "\n",
        "  def __init__(self, name, age, grade):\n",
        "    \"\"\"\n",
        "    여기도 이렇게 작성\n",
        "    \"\"\"\n",
        "\n",
        "\n",
        "    self.name = name\n",
        "    self.age = age\n",
        "    self.grade = grade\n",
        "\n",
        "  def info(self, comment = \"\"):\n",
        "    \"\"\"\n",
        "    여기도 작성\n",
        "    \"\"\"\n",
        "    print(f'내 이름은 {self.name}, 내 나이는 {self.age}, 현재 학년은 {self.grade}. {comment}')"
      ],
      "metadata": {
        "id": "G95ggeV9cmbC"
      },
      "execution_count": null,
      "outputs": []
    },
    {
      "cell_type": "code",
      "source": [
        "print(Person.__doc__)"
      ],
      "metadata": {
        "colab": {
          "base_uri": "https://localhost:8080/"
        },
        "id": "NxvouKkMeQ8q",
        "outputId": "f3a486fd-c036-44e9-9f15-606915f9277d"
      },
      "execution_count": null,
      "outputs": [
        {
          "output_type": "stream",
          "name": "stdout",
          "text": [
            "\n",
            "  자기소개하는 Person 클래스.\n",
            "\n",
            "  Attributes: \n",
            "  -----------\n",
            "    name: str\n",
            "      사람의 이름을 의미\n",
            "    age: int\n",
            "      사람의 나이를 의미\n",
            "    grade: int\n",
            "      사람의 현재 학년을 의미\n",
            "  \n",
            "  Methods\n",
            "  ----------\n",
            "  info(comment=\"\"):\n",
            "    사람의 개인정보를 출력\n",
            "  \n",
            "  \n"
          ]
        }
      ]
    },
    {
      "cell_type": "code",
      "source": [
        "help(Person)"
      ],
      "metadata": {
        "colab": {
          "base_uri": "https://localhost:8080/"
        },
        "id": "uBzWKrA0eV2e",
        "outputId": "5b4a7015-8bed-4596-9b54-b2a0ac1db783"
      },
      "execution_count": null,
      "outputs": [
        {
          "output_type": "stream",
          "name": "stdout",
          "text": [
            "Help on class Person in module __main__:\n",
            "\n",
            "class Person(builtins.object)\n",
            " |  Person(name, age, grade)\n",
            " |  \n",
            " |  자기소개하는 Person 클래스.\n",
            " |  \n",
            " |  Attributes: \n",
            " |  -----------\n",
            " |    name: str\n",
            " |      사람의 이름을 의미\n",
            " |    age: int\n",
            " |      사람의 나이를 의미\n",
            " |    grade: int\n",
            " |      사람의 현재 학년을 의미\n",
            " |  \n",
            " |  Methods\n",
            " |  ----------\n",
            " |  info(comment=\"\"):\n",
            " |    사람의 개인정보를 출력\n",
            " |  \n",
            " |  Methods defined here:\n",
            " |  \n",
            " |  __init__(self, name, age, grade)\n",
            " |      여기도 이렇게 작성\n",
            " |  \n",
            " |  info(self, comment='')\n",
            " |      여기도 작성\n",
            " |  \n",
            " |  ----------------------------------------------------------------------\n",
            " |  Data descriptors defined here:\n",
            " |  \n",
            " |  __dict__\n",
            " |      dictionary for instance variables (if defined)\n",
            " |  \n",
            " |  __weakref__\n",
            " |      list of weak references to the object (if defined)\n",
            " |  \n",
            " |  ----------------------------------------------------------------------\n",
            " |  Data and other attributes defined here:\n",
            " |  \n",
            " |  __annotations__ = {}\n",
            "\n"
          ]
        }
      ]
    }
  ]
}