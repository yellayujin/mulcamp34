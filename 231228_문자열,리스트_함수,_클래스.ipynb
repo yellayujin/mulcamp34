{
  "nbformat": 4,
  "nbformat_minor": 0,
  "metadata": {
    "colab": {
      "provenance": [],
      "toc_visible": true,
      "authorship_tag": "ABX9TyM5Yq2gswhR0I3yYbfeWkaX",
      "include_colab_link": true
    },
    "kernelspec": {
      "name": "python3",
      "display_name": "Python 3"
    },
    "language_info": {
      "name": "python"
    }
  },
  "cells": [
    {
      "cell_type": "markdown",
      "metadata": {
        "id": "view-in-github",
        "colab_type": "text"
      },
      "source": [
        "<a href=\"https://colab.research.google.com/github/yellayujin/mulcamp34/blob/main/231228_%EB%AC%B8%EC%9E%90%EC%97%B4%2C%EB%A6%AC%EC%8A%A4%ED%8A%B8_%ED%95%A8%EC%88%98%2C_%ED%81%B4%EB%9E%98%EC%8A%A4.ipynb\" target=\"_parent\"><img src=\"https://colab.research.google.com/assets/colab-badge.svg\" alt=\"Open In Colab\"/></a>"
      ]
    },
    {
      "cell_type": "markdown",
      "source": [
        "# 문자열 함수\n",
        "- p.158~\n",
        "- 함수, 메서드: function"
      ],
      "metadata": {
        "id": "H4v7UhNgw8qp"
      }
    },
    {
      "cell_type": "markdown",
      "source": [
        "## .split(): 문자열 분리"
      ],
      "metadata": {
        "id": "rRLv4_eL2q6m"
      }
    },
    {
      "cell_type": "code",
      "source": [
        "cms = '에스프레소, 아메리카노, 카페라테, 카푸치노'"
      ],
      "metadata": {
        "id": "f2Wgazo8xOZL"
      },
      "execution_count": null,
      "outputs": []
    },
    {
      "cell_type": "code",
      "source": [
        "cms   # 문자열 자료"
      ],
      "metadata": {
        "colab": {
          "base_uri": "https://localhost:8080/",
          "height": 35
        },
        "id": "UqjItBWOy6VB",
        "outputId": "30b729a2-bc88-4007-b4ca-117dc37acf4f"
      },
      "execution_count": null,
      "outputs": [
        {
          "output_type": "execute_result",
          "data": {
            "text/plain": [
              "'에스프레소, 아메리카노, 카페라테, 카푸치노'"
            ],
            "application/vnd.google.colaboratory.intrinsic+json": {
              "type": "string"
            }
          },
          "metadata": {},
          "execution_count": 7
        }
      ]
    },
    {
      "cell_type": "code",
      "source": [
        "cms.split(',')  # Return: 리스트자료(split하면 리스트 반환)-> 자료형도 type로 확인해야"
      ],
      "metadata": {
        "colab": {
          "base_uri": "https://localhost:8080/"
        },
        "id": "EH8XralWysdc",
        "outputId": "b20925da-47d6-4904-bda5-31eb2640d8b9"
      },
      "execution_count": null,
      "outputs": [
        {
          "output_type": "execute_result",
          "data": {
            "text/plain": [
              "['에스프레소', ' 아메리카노', ' 카페라테', ' 카푸치노']"
            ]
          },
          "metadata": {},
          "execution_count": 8
        }
      ]
    },
    {
      "cell_type": "code",
      "source": [
        "'에스프레소 아메리카노 카페라테 카푸치노'.split(' ')"
      ],
      "metadata": {
        "colab": {
          "base_uri": "https://localhost:8080/"
        },
        "id": "4m993Btp0UsW",
        "outputId": "64503e55-a258-4cf2-c0b0-30512d4c80e5"
      },
      "execution_count": null,
      "outputs": [
        {
          "output_type": "execute_result",
          "data": {
            "text/plain": [
              "['에스프레소', '아메리카노', '카페라테', '카푸치노']"
            ]
          },
          "metadata": {},
          "execution_count": 21
        }
      ]
    },
    {
      "cell_type": "code",
      "source": [
        "A = '1,2,3,4'"
      ],
      "metadata": {
        "id": "X0s4bhYTzGei"
      },
      "execution_count": null,
      "outputs": []
    },
    {
      "cell_type": "code",
      "source": [
        "A.split(',')"
      ],
      "metadata": {
        "colab": {
          "base_uri": "https://localhost:8080/"
        },
        "id": "-WI1exxDzkti",
        "outputId": "2c1628fa-c088-4c58-ae2b-864f4c404981"
      },
      "execution_count": null,
      "outputs": [
        {
          "output_type": "execute_result",
          "data": {
            "text/plain": [
              "['1', '2', '3', '4']"
            ]
          },
          "metadata": {},
          "execution_count": 10
        }
      ]
    },
    {
      "cell_type": "code",
      "source": [
        "type(A)"
      ],
      "metadata": {
        "colab": {
          "base_uri": "https://localhost:8080/"
        },
        "id": "XD6ypf3Szm05",
        "outputId": "b52a3411-8167-4ea4-f9c7-d1c04f5c13d1"
      },
      "execution_count": null,
      "outputs": [
        {
          "output_type": "execute_result",
          "data": {
            "text/plain": [
              "str"
            ]
          },
          "metadata": {},
          "execution_count": 11
        }
      ]
    },
    {
      "cell_type": "code",
      "source": [
        "B = [1,2,3,4]"
      ],
      "metadata": {
        "id": "q7cvL3pXzrXH"
      },
      "execution_count": null,
      "outputs": []
    },
    {
      "cell_type": "code",
      "source": [
        "type(B)"
      ],
      "metadata": {
        "colab": {
          "base_uri": "https://localhost:8080/"
        },
        "id": "YmO2-W77zvOv",
        "outputId": "cdf44ae1-7070-4d4f-9453-7c96636668fd"
      },
      "execution_count": null,
      "outputs": [
        {
          "output_type": "execute_result",
          "data": {
            "text/plain": [
              "list"
            ]
          },
          "metadata": {},
          "execution_count": 13
        }
      ]
    },
    {
      "cell_type": "code",
      "source": [
        "B.split(',')"
      ],
      "metadata": {
        "colab": {
          "base_uri": "https://localhost:8080/",
          "height": 182
        },
        "id": "ymuHX8pnzwWj",
        "outputId": "ab5389bf-755d-4a95-a6af-1c6fbdf2fc24"
      },
      "execution_count": null,
      "outputs": [
        {
          "output_type": "error",
          "ename": "AttributeError",
          "evalue": "ignored",
          "traceback": [
            "\u001b[0;31m---------------------------------------------------------------------------\u001b[0m",
            "\u001b[0;31mAttributeError\u001b[0m                            Traceback (most recent call last)",
            "\u001b[0;32m<ipython-input-14-84cbd77f9c6d>\u001b[0m in \u001b[0;36m<cell line: 1>\u001b[0;34m()\u001b[0m\n\u001b[0;32m----> 1\u001b[0;31m \u001b[0mB\u001b[0m\u001b[0;34m.\u001b[0m\u001b[0msplit\u001b[0m\u001b[0;34m(\u001b[0m\u001b[0;34m','\u001b[0m\u001b[0;34m)\u001b[0m\u001b[0;34m\u001b[0m\u001b[0;34m\u001b[0m\u001b[0m\n\u001b[0m",
            "\u001b[0;31mAttributeError\u001b[0m: 'list' object has no attribute 'split'"
          ]
        }
      ]
    },
    {
      "cell_type": "code",
      "source": [
        "B.str.split(',')"
      ],
      "metadata": {
        "colab": {
          "base_uri": "https://localhost:8080/",
          "height": 182
        },
        "id": "sz8Yhzhpz0Ya",
        "outputId": "96c3d991-b6ce-49a4-e6a9-73ceecd3577e"
      },
      "execution_count": null,
      "outputs": [
        {
          "output_type": "error",
          "ename": "AttributeError",
          "evalue": "ignored",
          "traceback": [
            "\u001b[0;31m---------------------------------------------------------------------------\u001b[0m",
            "\u001b[0;31mAttributeError\u001b[0m                            Traceback (most recent call last)",
            "\u001b[0;32m<ipython-input-15-2f150c434207>\u001b[0m in \u001b[0;36m<cell line: 1>\u001b[0;34m()\u001b[0m\n\u001b[0;32m----> 1\u001b[0;31m \u001b[0mB\u001b[0m\u001b[0;34m.\u001b[0m\u001b[0mstr\u001b[0m\u001b[0;34m.\u001b[0m\u001b[0msplit\u001b[0m\u001b[0;34m(\u001b[0m\u001b[0;34m','\u001b[0m\u001b[0;34m)\u001b[0m\u001b[0;34m\u001b[0m\u001b[0;34m\u001b[0m\u001b[0m\n\u001b[0m",
            "\u001b[0;31mAttributeError\u001b[0m: 'list' object has no attribute 'str'"
          ]
        }
      ]
    },
    {
      "cell_type": "code",
      "source": [
        "phone_number = \"+82-01-2345-6789\""
      ],
      "metadata": {
        "id": "L32O7GpUzwY_"
      },
      "execution_count": null,
      "outputs": []
    },
    {
      "cell_type": "code",
      "source": [
        "phone_number.split('-')[0]"
      ],
      "metadata": {
        "colab": {
          "base_uri": "https://localhost:8080/",
          "height": 35
        },
        "id": "25413ggf0sp8",
        "outputId": "9a193443-1f1c-4633-8baf-02b88d0ec8ee"
      },
      "execution_count": null,
      "outputs": [
        {
          "output_type": "execute_result",
          "data": {
            "text/plain": [
              "'+82'"
            ],
            "application/vnd.google.colaboratory.intrinsic+json": {
              "type": "string"
            }
          },
          "metadata": {},
          "execution_count": 23
        }
      ]
    },
    {
      "cell_type": "code",
      "source": [
        "phone_number.split('-',maxsplit=1)       # maxsplit과 같은 것: 매개변수, parameters, arguments"
      ],
      "metadata": {
        "colab": {
          "base_uri": "https://localhost:8080/"
        },
        "id": "epQHMHjG0yDw",
        "outputId": "ec87a283-978c-4044-f2a7-aa9e1d978e8a"
      },
      "execution_count": null,
      "outputs": [
        {
          "output_type": "execute_result",
          "data": {
            "text/plain": [
              "['+82', '01-2345-6789']"
            ]
          },
          "metadata": {},
          "execution_count": 24
        }
      ]
    },
    {
      "cell_type": "markdown",
      "source": [
        "## .strip(): 필요없는 문자열 삭제\n",
        "- 앞뒤 공백 혹은 개행문자와 같이 불필요한 부분을 지우고 싶을 때 사용"
      ],
      "metadata": {
        "id": "znqtrkSq2B-d"
      }
    },
    {
      "cell_type": "code",
      "source": [
        "temptext = ' Python '\n",
        "print(temptext)"
      ],
      "metadata": {
        "colab": {
          "base_uri": "https://localhost:8080/"
        },
        "id": "XfpKe9QB23aB",
        "outputId": "02d1aa13-0d29-42d0-ee1f-dbdcd1dc71e6"
      },
      "execution_count": null,
      "outputs": [
        {
          "output_type": "stream",
          "name": "stdout",
          "text": [
            " Python \n"
          ]
        }
      ]
    },
    {
      "cell_type": "code",
      "source": [
        "temptext.strip(' ')"
      ],
      "metadata": {
        "colab": {
          "base_uri": "https://localhost:8080/",
          "height": 35
        },
        "id": "--JDP-_D3j8p",
        "outputId": "ec744506-8eac-40d3-fa1d-ea4e2f951a6f"
      },
      "execution_count": null,
      "outputs": [
        {
          "output_type": "execute_result",
          "data": {
            "text/plain": [
              "'Python'"
            ],
            "application/vnd.google.colaboratory.intrinsic+json": {
              "type": "string"
            }
          },
          "metadata": {},
          "execution_count": 31
        }
      ]
    },
    {
      "cell_type": "code",
      "source": [
        "temptext = 'aaaPythonaaaaa'"
      ],
      "metadata": {
        "id": "3Rgnx2S133QX"
      },
      "execution_count": null,
      "outputs": []
    },
    {
      "cell_type": "code",
      "source": [
        "print(temptext.strip('a'))  # .strip()이용\n",
        "print(temptext[3:9])          # 각 텍스트 특징 다르면 적용 어려움"
      ],
      "metadata": {
        "colab": {
          "base_uri": "https://localhost:8080/"
        },
        "id": "PSW4cajt3731",
        "outputId": "a5974865-e769-41f6-a769-b778fd72d86b"
      },
      "execution_count": null,
      "outputs": [
        {
          "output_type": "stream",
          "name": "stdout",
          "text": [
            "Python\n",
            "Python\n"
          ]
        }
      ]
    },
    {
      "cell_type": "code",
      "source": [
        "tempText = 'aaaaabbPythonbbaaaaaa'"
      ],
      "metadata": {
        "id": "r09nnt3I4SIm"
      },
      "execution_count": null,
      "outputs": []
    },
    {
      "cell_type": "code",
      "source": [
        "print(tempText.strip('a').strip('b'))\n",
        "print(tempText.strip('ab'))    # 특수문자 활용도 가능\n",
        "print(tempText.strip('abP'))"
      ],
      "metadata": {
        "colab": {
          "base_uri": "https://localhost:8080/"
        },
        "id": "0mR-Wy4O4lxq",
        "outputId": "fe084df0-2058-45eb-aa9a-d3853ace4485"
      },
      "execution_count": null,
      "outputs": [
        {
          "output_type": "stream",
          "name": "stdout",
          "text": [
            "Python\n",
            "Python\n",
            "ython\n"
          ]
        }
      ]
    },
    {
      "cell_type": "code",
      "source": [
        "tempText.strip('o')     # 앞뒤에만 적용됨"
      ],
      "metadata": {
        "colab": {
          "base_uri": "https://localhost:8080/",
          "height": 35
        },
        "id": "xaK_L_SU45WQ",
        "outputId": "3f697d01-912b-4896-b987-0fd2d0ab6e2c"
      },
      "execution_count": null,
      "outputs": [
        {
          "output_type": "execute_result",
          "data": {
            "text/plain": [
              "'aaaaabbPythonbbaaaaaa'"
            ],
            "application/vnd.google.colaboratory.intrinsic+json": {
              "type": "string"
            }
          },
          "metadata": {},
          "execution_count": 43
        }
      ]
    },
    {
      "cell_type": "code",
      "source": [
        "tempText = '\\n Python \\n\\n'   # 개행\n",
        "tempText"
      ],
      "metadata": {
        "colab": {
          "base_uri": "https://localhost:8080/",
          "height": 35
        },
        "id": "zOUeCtwC4yUu",
        "outputId": "79d1d73f-4e68-4b3f-b910-a3a084b6dfc0"
      },
      "execution_count": null,
      "outputs": [
        {
          "output_type": "execute_result",
          "data": {
            "text/plain": [
              "'\\n Python \\n\\n'"
            ],
            "application/vnd.google.colaboratory.intrinsic+json": {
              "type": "string"
            }
          },
          "metadata": {},
          "execution_count": 47
        }
      ]
    },
    {
      "cell_type": "code",
      "source": [
        "print(tempText.strip('\\n'))   # 공백은 남아있음\n",
        "print(tempText.strip(' \\n'))   # 공백 제거됨"
      ],
      "metadata": {
        "colab": {
          "base_uri": "https://localhost:8080/"
        },
        "id": "VDuurJPz9HfE",
        "outputId": "3e461fdd-8e4e-4fa8-ae1d-6aa64d3b1ce8"
      },
      "execution_count": null,
      "outputs": [
        {
          "output_type": "stream",
          "name": "stdout",
          "text": [
            " Python \n",
            "Python\n"
          ]
        }
      ]
    },
    {
      "cell_type": "code",
      "source": [
        "# .lstrip(), .rstrip()"
      ],
      "metadata": {
        "id": "MCrz7yuB9dUq"
      },
      "execution_count": null,
      "outputs": []
    },
    {
      "cell_type": "markdown",
      "source": [
        "## .join(): 문자열 연결\n",
        "- 더하기 연산자(+)로 두 문자열 연결 가능"
      ],
      "metadata": {
        "id": "yiO85Tww9-Dl"
      }
    },
    {
      "cell_type": "code",
      "source": [
        "name1 = '철수'\n",
        "name2 = '영미'\n",
        "\n",
        "hello = '님, 주소와 전화번호를 입력해 주세요.'"
      ],
      "metadata": {
        "id": "8TwCzqUo-JKg"
      },
      "execution_count": null,
      "outputs": []
    },
    {
      "cell_type": "code",
      "source": [
        "print(name1 + hello)"
      ],
      "metadata": {
        "colab": {
          "base_uri": "https://localhost:8080/"
        },
        "id": "v5w-dmcj-ZSl",
        "outputId": "040f5762-3e2f-4aa7-9df4-59b170f2e116"
      },
      "execution_count": null,
      "outputs": [
        {
          "output_type": "stream",
          "name": "stdout",
          "text": [
            "철수님, 주소와 전화번호를 입력해 주세요.\n"
          ]
        }
      ]
    },
    {
      "cell_type": "code",
      "source": [
        "# 리스트의 각 값을 모두 연결해서 하나의 텍스트로\n",
        "address_list = ['서울시', '서초구', '반포대로', '201(반포동)']"
      ],
      "metadata": {
        "id": "T1hY0mrn-vec"
      },
      "execution_count": null,
      "outputs": []
    },
    {
      "cell_type": "code",
      "source": [
        "a = ' '\n",
        "a.join(address_list)"
      ],
      "metadata": {
        "colab": {
          "base_uri": "https://localhost:8080/",
          "height": 35
        },
        "id": "jrAPFw1s_Hpp",
        "outputId": "65955121-3028-4a27-8f17-31e760bd8079"
      },
      "execution_count": null,
      "outputs": [
        {
          "output_type": "execute_result",
          "data": {
            "text/plain": [
              "'서울시 서초구 반포대로 201(반포동)'"
            ],
            "application/vnd.google.colaboratory.intrinsic+json": {
              "type": "string"
            }
          },
          "metadata": {},
          "execution_count": 55
        }
      ]
    },
    {
      "cell_type": "markdown",
      "source": [
        "## .find(): 문자열 찾기\n",
        "- 문자열의 위치 값을 반환"
      ],
      "metadata": {
        "id": "brXUZMby_LqL"
      }
    },
    {
      "cell_type": "code",
      "source": [
        "str_f = 'Python code.'\n",
        "print('찾는 문자열의 위치:', str_f.find('Python'))\n",
        "print('찾는 문자열의 위치:', str_f.find('Java'))    # -1: 해당되는 문자 없음"
      ],
      "metadata": {
        "colab": {
          "base_uri": "https://localhost:8080/"
        },
        "id": "xhrOJGyIAuPA",
        "outputId": "d5b3ff78-5cf1-4f86-dd45-f6066bf2c310"
      },
      "execution_count": null,
      "outputs": [
        {
          "output_type": "stream",
          "name": "stdout",
          "text": [
            "찾는 문자열의 위치: 0\n",
            "찾는 문자열의 위치: -1\n"
          ]
        }
      ]
    },
    {
      "cell_type": "markdown",
      "source": [
        "### 과제(!)\n",
        "- 점프 투 파이썬 참고(문자형 자료형-문자형 포매팅 등) 이용하여\n",
        "https://www.youtube.com/watch?v=cKjE94_CITc&list;=PLGSQkvB9T6rvnDo\n",
        "\n",
        "- 11. format 함수를 사용한 포매팅\n",
        "- 12. f 문자열 포매팅\n",
        "- 위 둘은 반드시 공부, 나머지는 읽어오기\n",
        "- 공부하고 위 출력결과를 코드와 다르게 작성해보기\n",
        "- 이번주 과제 : 문자열 포매팅 실습 및 정리 (11, 12번 집중 연습)"
      ],
      "metadata": {
        "id": "KHArgJVDBEb1"
      }
    },
    {
      "cell_type": "markdown",
      "source": [
        "## .count(): 찾고자 하는 문자열의 갯수 반환\n",
        "- 만약, 찾을 문자열이 없으면 0으로 반환"
      ],
      "metadata": {
        "id": "jddQe4GDDGwW"
      }
    },
    {
      "cell_type": "code",
      "source": [
        "str_c = \"Python is powerful. Python is easy to learn. Python is open.\""
      ],
      "metadata": {
        "id": "H6up21mxDWVv"
      },
      "execution_count": null,
      "outputs": []
    },
    {
      "cell_type": "code",
      "source": [
        "print('Python의 갯수는?', str_c.count('Python'))\n",
        "print('Java의 갯수는?', str_c.count('Java'))"
      ],
      "metadata": {
        "colab": {
          "base_uri": "https://localhost:8080/"
        },
        "id": "dNuFUIXEDh_0",
        "outputId": "ca6f9e9b-4e3a-4274-c63c-bf89a38a7a48"
      },
      "execution_count": null,
      "outputs": [
        {
          "output_type": "stream",
          "name": "stdout",
          "text": [
            "Python의 갯수는? 3\n",
            "Java의 갯수는? 0\n"
          ]
        }
      ]
    },
    {
      "cell_type": "markdown",
      "source": [
        "## .startswith(), .endswith()\n",
        "- 각 문자열이 지정된 문자로 시작하는지(끝나는지) 체크(검사)할 때 사용"
      ],
      "metadata": {
        "id": "OzY-J4wDDzmp"
      }
    },
    {
      "cell_type": "code",
      "source": [
        "str_c.startswith('P')"
      ],
      "metadata": {
        "colab": {
          "base_uri": "https://localhost:8080/"
        },
        "id": "Nu9r8f_5EGF3",
        "outputId": "ee47fb11-fcb0-44cf-f2c7-4bf434beb1b0"
      },
      "execution_count": null,
      "outputs": [
        {
          "output_type": "execute_result",
          "data": {
            "text/plain": [
              "True"
            ]
          },
          "metadata": {},
          "execution_count": 68
        }
      ]
    },
    {
      "cell_type": "code",
      "source": [
        "str_c.startswith('Python')"
      ],
      "metadata": {
        "colab": {
          "base_uri": "https://localhost:8080/"
        },
        "id": "V5ogDSf1EMDg",
        "outputId": "eb8349a4-23da-4b92-db02-f0b023302423"
      },
      "execution_count": null,
      "outputs": [
        {
          "output_type": "execute_result",
          "data": {
            "text/plain": [
              "True"
            ]
          },
          "metadata": {},
          "execution_count": 69
        }
      ]
    },
    {
      "cell_type": "code",
      "source": [
        "str_c.startswith('Pythonis')   # 공백도 대상임"
      ],
      "metadata": {
        "colab": {
          "base_uri": "https://localhost:8080/"
        },
        "id": "GAqc2WaAEQJ6",
        "outputId": "22474a6d-5312-4a61-eedf-1452c740506b"
      },
      "execution_count": null,
      "outputs": [
        {
          "output_type": "execute_result",
          "data": {
            "text/plain": [
              "False"
            ]
          },
          "metadata": {},
          "execution_count": 65
        }
      ]
    },
    {
      "cell_type": "code",
      "source": [
        "str_c.endswith('.')"
      ],
      "metadata": {
        "colab": {
          "base_uri": "https://localhost:8080/"
        },
        "id": "9QOX3X9OEe6u",
        "outputId": "d85821e5-2c99-4ffe-8f7e-b74af0be05d1"
      },
      "execution_count": null,
      "outputs": [
        {
          "output_type": "execute_result",
          "data": {
            "text/plain": [
              "True"
            ]
          },
          "metadata": {},
          "execution_count": 70
        }
      ]
    },
    {
      "cell_type": "markdown",
      "source": [
        "## .replace(): 문자열 대체\n",
        "- 지정한 문자열을 찾아서 바꾸는 메서드"
      ],
      "metadata": {
        "id": "6N-G91YnE4LA"
      }
    },
    {
      "cell_type": "code",
      "source": [
        "str_a = 'Python is fast. Python is friendly. Python is open.'"
      ],
      "metadata": {
        "id": "-edkWWqjE_qi"
      },
      "execution_count": null,
      "outputs": []
    },
    {
      "cell_type": "code",
      "source": [
        "str_a.replace('Python', 'Tableau')"
      ],
      "metadata": {
        "colab": {
          "base_uri": "https://localhost:8080/",
          "height": 35
        },
        "id": "5YG6c10kFKdj",
        "outputId": "30cf0044-1825-4e40-d50f-0aae0e2f4eee"
      },
      "execution_count": null,
      "outputs": [
        {
          "output_type": "execute_result",
          "data": {
            "text/plain": [
              "'Tableau is fast. Tableau is friendly. Tableau is open.'"
            ],
            "application/vnd.google.colaboratory.intrinsic+json": {
              "type": "string"
            }
          },
          "metadata": {},
          "execution_count": 72
        }
      ]
    },
    {
      "cell_type": "code",
      "source": [
        "str_b = '[Python][is][fast]'"
      ],
      "metadata": {
        "id": "ccqXeT_aFhR4"
      },
      "execution_count": null,
      "outputs": []
    },
    {
      "cell_type": "code",
      "source": [
        "str_b = str_b.replace('[','').replace(']',' ')"
      ],
      "metadata": {
        "id": "v0xRDZ-oFvx_"
      },
      "execution_count": null,
      "outputs": []
    },
    {
      "cell_type": "code",
      "source": [
        "str_b.rstrip()   # 후반부 공백 제거"
      ],
      "metadata": {
        "colab": {
          "base_uri": "https://localhost:8080/",
          "height": 35
        },
        "id": "DfAk4Bu6GF90",
        "outputId": "85f57c25-cd4b-4cff-c279-d4774a064eff"
      },
      "execution_count": null,
      "outputs": [
        {
          "output_type": "execute_result",
          "data": {
            "text/plain": [
              "'Python is fast'"
            ],
            "application/vnd.google.colaboratory.intrinsic+json": {
              "type": "string"
            }
          },
          "metadata": {},
          "execution_count": 82
        }
      ]
    },
    {
      "cell_type": "markdown",
      "source": [
        "# 리스트 함수\n",
        "- p.54~\n",
        "https://docs.python.org/3/tutorial/datastructures.html\n",
        "- 교재에는 .clear(), .copy()는 빠져있음\n",
        "![image.png](data:image/png;base64,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)"
      ],
      "metadata": {
        "id": "64f8Z7oMxIma"
      }
    },
    {
      "cell_type": "markdown",
      "source": [
        "- 처음 공부 시 도서 위주 but 세미프로젝트부터는 공식 문서를 주요하게 읽어야.(담고 있는 내용 양 자체가 다름)\n",
        "- 이제 라이브러리 사용할 때, 공식 문서를 보는 훈련을 계속 해야.\n"
      ],
      "metadata": {
        "id": "rqN7bRcVxQl9"
      }
    },
    {
      "cell_type": "markdown",
      "source": [
        "## append()\n",
        "- 리스트에서 항목 하나를 맨 마지막에 추가(덧붙임)"
      ],
      "metadata": {
        "id": "p0XH-WyAN4mE"
      }
    },
    {
      "cell_type": "code",
      "source": [
        "myFriends = ['James', 'Robert', 'Lisa', 'Mary']\n",
        "myFriends.append('Thomas')\n",
        "print(myFriends)"
      ],
      "metadata": {
        "colab": {
          "base_uri": "https://localhost:8080/"
        },
        "id": "01OpcukAN-bW",
        "outputId": "59863b17-59c6-48ae-c6b7-7b547134b0e4"
      },
      "execution_count": null,
      "outputs": [
        {
          "output_type": "stream",
          "name": "stdout",
          "text": [
            "['James', 'Robert', 'Lisa', 'Mary', 'Thomas']\n"
          ]
        }
      ]
    },
    {
      "cell_type": "code",
      "source": [
        "# 특이한 점\n",
        "myFriends = ['James', 'Robert', 'Lisa', 'Mary']\n",
        "result = myFriends.append('Thomas')\n",
        "print(result)      # 와 같이 하면 None으로 에러남. 따로 할당하지 않고 그냥 해야함."
      ],
      "metadata": {
        "colab": {
          "base_uri": "https://localhost:8080/"
        },
        "id": "EBSaQdYDOHC3",
        "outputId": "6b410154-334a-4fa1-c180-7afe90d9b636"
      },
      "execution_count": null,
      "outputs": [
        {
          "output_type": "stream",
          "name": "stdout",
          "text": [
            "None\n"
          ]
        }
      ]
    },
    {
      "cell_type": "markdown",
      "source": [
        "## extend()\n",
        "-"
      ],
      "metadata": {
        "id": "1XzSUP6hOv_I"
      }
    },
    {
      "cell_type": "code",
      "source": [
        "myFriends = ['James', 'Robert', 'Lisa', 'Mary']\n",
        "myFriends.append('Thomas')\n",
        "\n",
        "newFriends = ['A', 'B', 'C']\n",
        "myFriends.append(newFriends)\n",
        "myFriends                # 리스트 안에 통째로 들어가버림(메서드를 잘못 쓴 것)"
      ],
      "metadata": {
        "colab": {
          "base_uri": "https://localhost:8080/"
        },
        "id": "301Y2MrMPjx1",
        "outputId": "3ec13331-661f-40bf-dc69-8fed7332087f"
      },
      "execution_count": null,
      "outputs": [
        {
          "output_type": "execute_result",
          "data": {
            "text/plain": [
              "['James', 'Robert', 'Lisa', 'Mary', 'Thomas', ['A', 'B', 'C']]"
            ]
          },
          "metadata": {},
          "execution_count": 87
        }
      ]
    },
    {
      "cell_type": "code",
      "source": [
        "myFriends = ['James', 'Robert', 'Lisa', 'Mary']\n",
        "myFriends.append('Thomas')\n",
        "\n",
        "myFriends.extend(newFriends)\n",
        "myFriends                # 이렇게 해야"
      ],
      "metadata": {
        "colab": {
          "base_uri": "https://localhost:8080/"
        },
        "id": "gubpBabcPsMw",
        "outputId": "589a9aba-59f4-46d8-e37a-b7925a95f06e"
      },
      "execution_count": null,
      "outputs": [
        {
          "output_type": "execute_result",
          "data": {
            "text/plain": [
              "['James', 'Robert', 'Lisa', 'Mary', 'Thomas', 'A', 'B', 'C']"
            ]
          },
          "metadata": {},
          "execution_count": 89
        }
      ]
    },
    {
      "cell_type": "markdown",
      "source": [
        "## insert()\n",
        "- 항목의 위치를 나타내는 **인덱스 i**에 data를 삽입"
      ],
      "metadata": {
        "id": "AvnrE8knP2SS"
      }
    },
    {
      "cell_type": "code",
      "source": [
        "myFriends = ['James', 'Robert', 'Lisa', 'Mary']\n",
        "myFriends.insert(1, 'Evan')\n",
        "print(myFriends)"
      ],
      "metadata": {
        "colab": {
          "base_uri": "https://localhost:8080/"
        },
        "id": "Z0861OKVTCZT",
        "outputId": "0f83671e-4b81-420a-e5b8-94e80d0619d2"
      },
      "execution_count": null,
      "outputs": [
        {
          "output_type": "stream",
          "name": "stdout",
          "text": [
            "['James', 'Evan', 'Robert', 'Lisa', 'Mary']\n"
          ]
        }
      ]
    },
    {
      "cell_type": "code",
      "source": [
        "myFriends.insert('Yee')\n",
        "# TypeError: insert expected 2 arguments, got 1"
      ],
      "metadata": {
        "colab": {
          "base_uri": "https://localhost:8080/",
          "height": 182
        },
        "id": "hkgGfTWdYL32",
        "outputId": "3725056d-f714-4abc-a87f-aa097aa2ac40"
      },
      "execution_count": null,
      "outputs": [
        {
          "output_type": "error",
          "ename": "TypeError",
          "evalue": "ignored",
          "traceback": [
            "\u001b[0;31m---------------------------------------------------------------------------\u001b[0m",
            "\u001b[0;31mTypeError\u001b[0m                                 Traceback (most recent call last)",
            "\u001b[0;32m<ipython-input-140-4b6cb5c1ee72>\u001b[0m in \u001b[0;36m<cell line: 1>\u001b[0;34m()\u001b[0m\n\u001b[0;32m----> 1\u001b[0;31m \u001b[0mmyFriends\u001b[0m\u001b[0;34m.\u001b[0m\u001b[0minsert\u001b[0m\u001b[0;34m(\u001b[0m\u001b[0;34m'Yee'\u001b[0m\u001b[0;34m)\u001b[0m\u001b[0;34m\u001b[0m\u001b[0;34m\u001b[0m\u001b[0m\n\u001b[0m",
            "\u001b[0;31mTypeError\u001b[0m: insert expected 2 arguments, got 1"
          ]
        }
      ]
    },
    {
      "cell_type": "markdown",
      "source": [
        "# 클래스"
      ],
      "metadata": {
        "id": "tgRKHHHWxLsO"
      }
    },
    {
      "cell_type": "markdown",
      "source": [
        "## 사용자 정의 함수\n",
        "- p.116~\n",
        "\n",
        "### 함수의 구조\n",
        "- 매개변수, 인자\n",
        "def 함수명([인자1, 인자2, ..., 인자n]):\n",
        "  -> 코드 블록\n",
        "  return 반환값\n",
        "들여쓰기 해야(indentation)"
      ],
      "metadata": {
        "id": "SfFcza0cxRRz"
      }
    },
    {
      "cell_type": "code",
      "source": [
        "def mySum(a, b):\n",
        "  c = a + b\n",
        "  return c"
      ],
      "metadata": {
        "id": "h-PjjJ9qqHAc"
      },
      "execution_count": null,
      "outputs": []
    },
    {
      "cell_type": "code",
      "source": [
        "mySum(153, 295)"
      ],
      "metadata": {
        "colab": {
          "base_uri": "https://localhost:8080/"
        },
        "id": "STUI-GstqRCL",
        "outputId": "6921b55b-fddb-4b5f-8fa2-000522a77c81"
      },
      "execution_count": null,
      "outputs": [
        {
          "output_type": "execute_result",
          "data": {
            "text/plain": [
              "448"
            ]
          },
          "metadata": {},
          "execution_count": 93
        }
      ]
    },
    {
      "cell_type": "code",
      "source": [
        "def mySubs(a, b):\n",
        "  c = a - b\n",
        "  return c"
      ],
      "metadata": {
        "id": "AiSgc9csqVT5"
      },
      "execution_count": null,
      "outputs": []
    },
    {
      "cell_type": "code",
      "source": [
        "mySubs(482,698)"
      ],
      "metadata": {
        "colab": {
          "base_uri": "https://localhost:8080/"
        },
        "id": "6f7rCDi9rtgr",
        "outputId": "0bb5809a-2350-46af-e746-0deed924e79b"
      },
      "execution_count": null,
      "outputs": [
        {
          "output_type": "execute_result",
          "data": {
            "text/plain": [
              "-216"
            ]
          },
          "metadata": {},
          "execution_count": 96
        }
      ]
    },
    {
      "cell_type": "code",
      "source": [
        "x = 100\n",
        "y = 200\n",
        "mySubs(x,y)  # 함수를 def할 때의 a,b는 임의의 인자로, input이 꼭 a, b일 필요는 없음"
      ],
      "metadata": {
        "colab": {
          "base_uri": "https://localhost:8080/"
        },
        "id": "gaH_tuR7s6QD",
        "outputId": "2ab4a8f8-b0aa-49d8-a6d4-c8f1b1fd63af"
      },
      "execution_count": null,
      "outputs": [
        {
          "output_type": "execute_result",
          "data": {
            "text/plain": [
              "-100"
            ]
          },
          "metadata": {},
          "execution_count": 97
        }
      ]
    },
    {
      "cell_type": "code",
      "source": [
        "mySubs(x)\n",
        " # positional argument(a,b): 위치인자 <-> Keyword argument(x=n)\n",
        " # https://m.blog.naver.com/liveforu/222038227393"
      ],
      "metadata": {
        "colab": {
          "base_uri": "https://localhost:8080/",
          "height": 182
        },
        "id": "m2QoSKSctK_z",
        "outputId": "88857cc5-2870-4fc9-cd03-0362158b81a4"
      },
      "execution_count": null,
      "outputs": [
        {
          "output_type": "error",
          "ename": "TypeError",
          "evalue": "ignored",
          "traceback": [
            "\u001b[0;31m---------------------------------------------------------------------------\u001b[0m",
            "\u001b[0;31mTypeError\u001b[0m                                 Traceback (most recent call last)",
            "\u001b[0;32m<ipython-input-98-c52fd2f1c11e>\u001b[0m in \u001b[0;36m<cell line: 1>\u001b[0;34m()\u001b[0m\n\u001b[0;32m----> 1\u001b[0;31m \u001b[0mmySubs\u001b[0m\u001b[0;34m(\u001b[0m\u001b[0mx\u001b[0m\u001b[0;34m)\u001b[0m\u001b[0;34m\u001b[0m\u001b[0;34m\u001b[0m\u001b[0m\n\u001b[0m",
            "\u001b[0;31mTypeError\u001b[0m: mySubs() missing 1 required positional argument: 'b'"
          ]
        }
      ]
    },
    {
      "cell_type": "code",
      "source": [
        "def mySubs(a, b=0):      # b의 초깃값이 설정됨 -> b의 입력값이 없어도 계산됨\n",
        "  c = a - b\n",
        "  return c\n",
        "\n",
        "m=1\n",
        "mySubs(m)     # It works."
      ],
      "metadata": {
        "colab": {
          "base_uri": "https://localhost:8080/"
        },
        "id": "3CnmoBepuki7",
        "outputId": "ea19327b-ab77-4c41-c28c-024e04cf12b7"
      },
      "execution_count": null,
      "outputs": [
        {
          "output_type": "execute_result",
          "data": {
            "text/plain": [
              "1"
            ]
          },
          "metadata": {},
          "execution_count": 99
        }
      ]
    },
    {
      "cell_type": "code",
      "source": [
        "m=1\n",
        "n=10\n",
        "mySubs(m,n)   # b의 값이 10으로 재정의됨"
      ],
      "metadata": {
        "colab": {
          "base_uri": "https://localhost:8080/"
        },
        "id": "YSJw_owavTCT",
        "outputId": "886bb1a0-61e1-4091-a5f7-ad3f2538719c"
      },
      "execution_count": null,
      "outputs": [
        {
          "output_type": "execute_result",
          "data": {
            "text/plain": [
              "-9"
            ]
          },
          "metadata": {},
          "execution_count": 100
        }
      ]
    },
    {
      "cell_type": "code",
      "source": [
        "def my_func():\n",
        "  print(\"My first function\")\n",
        "  print(\"This is a function!\")"
      ],
      "metadata": {
        "id": "ShkbxpG6vyQk"
      },
      "execution_count": null,
      "outputs": []
    },
    {
      "cell_type": "code",
      "source": [
        "my_func()"
      ],
      "metadata": {
        "colab": {
          "base_uri": "https://localhost:8080/"
        },
        "id": "lXmSfHCg0Juo",
        "outputId": "f3ec4eab-d8ee-4291-fafb-6c1c9200cef0"
      },
      "execution_count": null,
      "outputs": [
        {
          "output_type": "stream",
          "name": "stdout",
          "text": [
            "My first function\n",
            "This is a function!\n"
          ]
        }
      ]
    },
    {
      "cell_type": "code",
      "source": [
        "# mySubs: 반환값이 있는 메서드, 함수 호출(call)하여 인자(arguments) 넣어줘야\n",
        "# my_func: 반환값이 없는 메서드, 함수 호출만 하면 실행됨"
      ],
      "metadata": {
        "id": "FteV1JIm0ghm"
      },
      "execution_count": null,
      "outputs": []
    },
    {
      "cell_type": "markdown",
      "source": [
        "## 변수의 유효범위(지역/전역변수)\n",
        "- p.121\n",
        "- 지역변수(Local Variable), 전역변수(Global Variable)"
      ],
      "metadata": {
        "id": "UNQmkNbZ1IyH"
      }
    },
    {
      "cell_type": "code",
      "source": [
        "a = 5    # 전역 변수\n",
        "\n",
        "def func1():\n",
        "  a = 1  # 지역 변수, 함수 내부에서 사용 가능\n",
        "  print(f'func1 지역 변수 a = {a}')\n",
        "\n",
        "func1()\n",
        "print(f'전역 변수 a = {a}')"
      ],
      "metadata": {
        "colab": {
          "base_uri": "https://localhost:8080/"
        },
        "id": "QUp0D4FI2Xs5",
        "outputId": "af49215a-995e-4cd0-8985-26deaca431f2"
      },
      "execution_count": null,
      "outputs": [
        {
          "output_type": "stream",
          "name": "stdout",
          "text": [
            "func1 지역 변수 a = 1\n",
            "전역 변수 a = 5\n"
          ]
        }
      ]
    },
    {
      "cell_type": "code",
      "source": [
        "a = 5    # 전역 변수\n",
        "\n",
        "def func1():\n",
        "  a = 1  # 지역 변수, 함수 내부에서 사용 가능\n",
        "  print(f'func1 지역 변수 a = {a}')\n",
        "\n",
        "def func2():\n",
        "  a = 4  # 지역 변수, 함수 내부에서 사용 가능\n",
        "  print(f'func2 지역 변수 a = {a}')\n",
        "\n",
        "func1()\n",
        "func2()\n",
        "print(f'전역 변수 a = {a}')"
      ],
      "metadata": {
        "colab": {
          "base_uri": "https://localhost:8080/"
        },
        "id": "q3Xc0LD329-v",
        "outputId": "11905ac6-0831-432c-f04b-9fc53841db2b"
      },
      "execution_count": null,
      "outputs": [
        {
          "output_type": "stream",
          "name": "stdout",
          "text": [
            "func1 지역 변수 a = 1\n",
            "func2 지역 변수 a = 4\n",
            "전역 변수 a = 5\n"
          ]
        }
      ]
    },
    {
      "cell_type": "code",
      "source": [
        "a = 5    # 전역 변수\n",
        "\n",
        "def func1():\n",
        "  a = 1  # 지역 변수, 함수 내부에서 사용 가능\n",
        "  print(f'func1 지역 변수 a = {a}')\n",
        "\n",
        "def func2():\n",
        "  a = 4  # 지역 변수, 함수 내부에서 사용 가능\n",
        "  print(f'func2 지역 변수 a = {a}')\n",
        "\n",
        "def func3():\n",
        "  print(f'func3 전역 변수 a = {a}')\n",
        "\n",
        "def func4():\n",
        "  global a      # '함수 내에서' 전역 변수를 변경하기 위함\n",
        "  a = 500\n",
        "  print(f'func4 전역 변수 a = {a}')\n",
        "\n",
        "func1()\n",
        "func2()\n",
        "func3()\n",
        "func4()\n",
        "print(f'전역 변수 a = {a}')    # 여기도 500으로 바뀜!\n",
        "a                              # 업데이트됨\n",
        "func3()                        # 업데이트됨"
      ],
      "metadata": {
        "colab": {
          "base_uri": "https://localhost:8080/"
        },
        "id": "4xeCkjWm3BTA",
        "outputId": "ef005405-8eb9-43f7-e20c-e99245baf9ee"
      },
      "execution_count": null,
      "outputs": [
        {
          "output_type": "stream",
          "name": "stdout",
          "text": [
            "func1 지역 변수 a = 1\n",
            "func2 지역 변수 a = 4\n",
            "func3 전역 변수 a = 5\n",
            "func4 전역 변수 a = 500\n",
            "전역 변수 a = 500\n",
            "func3 전역 변수 a = 500\n"
          ]
        }
      ]
    },
    {
      "cell_type": "markdown",
      "source": [
        "### lambda 함수\n",
        "- def 함수의 경우 복잡한 함수 로직을 만들 때 주로 사용\n",
        "- 단순 기능을 수행할 때, lambda 함수\n",
        "  + 함수를 한 줄로 처리해줌\n",
        "- lambda 인자(=매개변수) : 인자를 활용한 코드 (원하는 인자 코드 입력)"
      ],
      "metadata": {
        "id": "gS8oV4BR5Wrf"
      }
    },
    {
      "cell_type": "code",
      "source": [
        "(lambda x : x ** 2)(3)\n",
        "\n",
        "'''\n",
        "def myPower (x):\n",
        "  y = x ** 2\n",
        "  return y\n",
        "myPower(3)          과 동일함'''"
      ],
      "metadata": {
        "colab": {
          "base_uri": "https://localhost:8080/"
        },
        "id": "BxOy5pjE7I4N",
        "outputId": "d9ef5f19-3f75-4adf-88b5-6f3da0231c6f"
      },
      "execution_count": null,
      "outputs": [
        {
          "output_type": "execute_result",
          "data": {
            "text/plain": [
              "9"
            ]
          },
          "metadata": {},
          "execution_count": 115
        }
      ]
    },
    {
      "cell_type": "code",
      "source": [
        "mySquare = lambda x : x ** 2         # lambda 저장하여 사용\n",
        "mySquare(3)"
      ],
      "metadata": {
        "colab": {
          "base_uri": "https://localhost:8080/"
        },
        "id": "PCB-PFXn78nm",
        "outputId": "d6d0eabf-db2c-454f-b35c-877f437f536d"
      },
      "execution_count": null,
      "outputs": [
        {
          "output_type": "execute_result",
          "data": {
            "text/plain": [
              "9"
            ]
          },
          "metadata": {},
          "execution_count": 116
        }
      ]
    },
    {
      "cell_type": "markdown",
      "source": [
        "## 클래스 선언과 객체 생성\n",
        "- p.135~\n",
        "- 함수의 확장\n",
        "- 함수의 클래스 비유적 비교\n",
        "  + 함수: 각 덧셈함수, 뺄셈함수, 곱셈함수 등\n",
        "  + 클래스: 사칙연산 클래스, 계산기\n",
        "  + 라이브러리: 클래스들의 묶음\n",
        "    + 미분 클래스\n",
        "    + 적분 클래스\n",
        "    + ...\n",
        "- 라이브러리->사칙연산 클래스->개별함수(덧셈함수)\n",
        "클래스 이해: https://youtu.be/FRHGtAvU03Q?si=9jJWWte-xEqahjFY"
      ],
      "metadata": {
        "id": "9xAxhPwQ8U68"
      }
    },
    {
      "cell_type": "code",
      "source": [
        "# 자전거의 속성: data (바퀴의 크기, 자전거의 색상)\n",
        "# 자전거의 동작: method (=function), (지정된 속도로 이동, 좌/우회전, 정지 기능)\n",
        "\n",
        "'''\n",
        "클래스: 제품의 설계도\n",
        "객체: 설계도로 만든 제품\n",
        "속성: 클래스 안의 변수\n",
        "메서드: 클래스 안의 함수\n",
        "생성자: 객체를 만들 때 실행되는 함수\n",
        "인스턴스: 메모리에 살아있는 객체(객체 안에 포함되어있는 개념.)\n",
        "'''"
      ],
      "metadata": {
        "id": "JY_0rqImDsI7"
      },
      "execution_count": null,
      "outputs": []
    },
    {
      "cell_type": "code",
      "source": [
        "class Bicycle: # 클래스 선언\n",
        "  # 클래스 변수\n",
        "  데이터1 = 바퀴의 크기\n",
        "  데이터2 = 자전거의 색상\n",
        "\n",
        "  def 속도():\n",
        "    pass\n",
        "\n",
        "  def 방향():\n",
        "    pass\n",
        "\n",
        "  def 정지():\n",
        "    pass\n",
        "\n",
        "객체명 = Bicycle(데이터1, 데이터2)   # 입력한 형태로 새로운 객체가 생김.\n"
      ],
      "metadata": {
        "id": "b5nFRfK5D-8j"
      },
      "execution_count": null,
      "outputs": []
    },
    {
      "cell_type": "code",
      "source": [
        "list = [1,2,3,4,5,6,7]\n",
        "print(type(list))\n",
        "# list에는 숫자 덧셈 함수가 없음->필요하면 만들어야"
      ],
      "metadata": {
        "colab": {
          "base_uri": "https://localhost:8080/"
        },
        "id": "E2AB1LhOGrHv",
        "outputId": "df0a03b8-e3e9-4132-e0a6-102d4db1ab17"
      },
      "execution_count": null,
      "outputs": [
        {
          "output_type": "stream",
          "name": "stdout",
          "text": [
            "<class 'list'>\n"
          ]
        }
      ]
    },
    {
      "cell_type": "code",
      "source": [
        "# prompt: create a function that makes summation of a list possible\n",
        "\n",
        "def sum_list(list):\n",
        "  sum = 0\n",
        "  for i in range(len(list)):\n",
        "    sum += list[i]\n",
        "  return sum\n",
        "\n",
        "sum_list(list)"
      ],
      "metadata": {
        "colab": {
          "base_uri": "https://localhost:8080/"
        },
        "id": "oQLztmqfGzlu",
        "outputId": "2b537e4d-7e57-477f-8253-54b7c9b9059b"
      },
      "execution_count": null,
      "outputs": [
        {
          "output_type": "execute_result",
          "data": {
            "text/plain": [
              "28"
            ]
          },
          "metadata": {},
          "execution_count": 121
        }
      ]
    },
    {
      "cell_type": "markdown",
      "source": [
        "### why Class?\n",
        "-"
      ],
      "metadata": {
        "id": "C1GgeXTfHebp"
      }
    },
    {
      "cell_type": "code",
      "source": [
        "result1 = 0\n",
        "def add1(num):            # 계산기 1대를 보유한 상태\n",
        "  global result1\n",
        "\n",
        "  result1 = result1 + num  # 결과값(result)에 입력값(num) 더하기\n",
        "  return result1\n",
        "\n",
        "print(add1(3))\n",
        "print(add1(5))\n",
        "\n",
        "# 계산기가 1대 더 필요\n",
        "result2 = 0\n",
        "def add2(num):\n",
        "  global result2\n",
        "\n",
        "  result2 = result2 + num\n",
        "  return result2\n",
        "\n",
        "print(add1(3))\n",
        "print(add1(5))\n",
        "print(add2(3))\n",
        "print(add2(8))\n",
        "\n",
        "\n",
        "  # 위 코드의 문제점: 같은 기능(덧셈)을 수행하는 함수가 중복될 수 있음, 코드의 가독성이 매우 나쁨"
      ],
      "metadata": {
        "colab": {
          "base_uri": "https://localhost:8080/"
        },
        "id": "dNVmZZFAJW1e",
        "outputId": "d2563de4-d532-4e14-80d9-cfda38d3d993"
      },
      "execution_count": null,
      "outputs": [
        {
          "output_type": "stream",
          "name": "stdout",
          "text": [
            "3\n",
            "8\n"
          ]
        }
      ]
    },
    {
      "cell_type": "code",
      "source": [
        "# SOLUTION!\n",
        "\n",
        "class Calculator:\n",
        "\n",
        "  def __init__(self):    # __init__: 생성자, 메서드, self: 매개변수. 메서드의 매개변수로 자기 자신이 들어감\n",
        "    self.result = 0      # result값을 초기화\n",
        "\n",
        "  # 클래스 메서드\n",
        "  def add(self, num):\n",
        "    self.result = self.result + num\n",
        "    return self.result\n",
        "\n",
        "cal1 = Calculator()     # 인스턴스화. 계산기 번호 1로 지정한 것.\n",
        "cal2 = Calculator()\n",
        "\n",
        "print(cal1.add(3))      # . : '~의'\n",
        "print(cal1.add(5))      # *늘 들여쓰기가 중요! 11행부터 들여쓰기 X\n",
        "\n",
        "print(cal2.add(2))\n",
        "print(cal2.add(6))      # Class의 장점\n",
        "                        # cal1과 cal2가 독립적으로 구현이 되면서, 동시에 실행이 되고 있음.\n",
        "                        # 기능은 덧셈 기능\n",
        "                        # 계산기 댓수를 무한으로 생성이 가능\n",
        "                        # 위의 셀과 비교했을 때, 같은 기능 수행하는 계산기를 만드는 것을 훨씬 간단하게 가능"
      ],
      "metadata": {
        "colab": {
          "base_uri": "https://localhost:8080/"
        },
        "id": "PfNMtsW1Kg2e",
        "outputId": "ab7ae484-26d7-4899-e108-90e27e5545af"
      },
      "execution_count": null,
      "outputs": [
        {
          "output_type": "stream",
          "name": "stdout",
          "text": [
            "3\n",
            "8\n",
            "2\n",
            "8\n"
          ]
        }
      ]
    },
    {
      "cell_type": "code",
      "source": [
        "# Error 1\n",
        "\n",
        "cal3 = Calculator()\n",
        "print(cal3.multiple(100))       # multiple()없습니당\n",
        "\n",
        "# AttributeError: 'Calculator' object has no attribute 'multiple'\n",
        "# Python 라이브러리 문서에서는 Class 안에서의 메서드를 attribute라고 얘기함."
      ],
      "metadata": {
        "colab": {
          "base_uri": "https://localhost:8080/",
          "height": 219
        },
        "id": "C7jpOq8CSsFy",
        "outputId": "9e4f964c-7aa3-4147-81a3-35880250a87b"
      },
      "execution_count": null,
      "outputs": [
        {
          "output_type": "error",
          "ename": "AttributeError",
          "evalue": "ignored",
          "traceback": [
            "\u001b[0;31m---------------------------------------------------------------------------\u001b[0m",
            "\u001b[0;31mAttributeError\u001b[0m                            Traceback (most recent call last)",
            "\u001b[0;32m<ipython-input-134-6931397b9424>\u001b[0m in \u001b[0;36m<cell line: 4>\u001b[0;34m()\u001b[0m\n\u001b[1;32m      2\u001b[0m \u001b[0;34m\u001b[0m\u001b[0m\n\u001b[1;32m      3\u001b[0m \u001b[0mcal3\u001b[0m \u001b[0;34m=\u001b[0m \u001b[0mCalculator\u001b[0m\u001b[0;34m(\u001b[0m\u001b[0;34m)\u001b[0m\u001b[0;34m\u001b[0m\u001b[0;34m\u001b[0m\u001b[0m\n\u001b[0;32m----> 4\u001b[0;31m \u001b[0mprint\u001b[0m\u001b[0;34m(\u001b[0m\u001b[0mcal3\u001b[0m\u001b[0;34m.\u001b[0m\u001b[0mmultiple\u001b[0m\u001b[0;34m(\u001b[0m\u001b[0;36m100\u001b[0m\u001b[0;34m)\u001b[0m\u001b[0;34m)\u001b[0m\u001b[0;34m\u001b[0m\u001b[0;34m\u001b[0m\u001b[0m\n\u001b[0m",
            "\u001b[0;31mAttributeError\u001b[0m: 'Calculator' object has no attribute 'multiple'"
          ]
        }
      ]
    },
    {
      "cell_type": "code",
      "source": [
        "# Error 2\n",
        "\n",
        "print(cal3.Add(100))        # 대소문자 구분해야합니당"
      ],
      "metadata": {
        "colab": {
          "base_uri": "https://localhost:8080/",
          "height": 219
        },
        "id": "GDW74H62TE2F",
        "outputId": "a16012b2-3512-4455-f314-32e61af96db5"
      },
      "execution_count": null,
      "outputs": [
        {
          "output_type": "error",
          "ename": "AttributeError",
          "evalue": "ignored",
          "traceback": [
            "\u001b[0;31m---------------------------------------------------------------------------\u001b[0m",
            "\u001b[0;31mAttributeError\u001b[0m                            Traceback (most recent call last)",
            "\u001b[0;32m<ipython-input-135-15acccc93929>\u001b[0m in \u001b[0;36m<cell line: 3>\u001b[0;34m()\u001b[0m\n\u001b[1;32m      1\u001b[0m \u001b[0;31m# Error 2\u001b[0m\u001b[0;34m\u001b[0m\u001b[0;34m\u001b[0m\u001b[0m\n\u001b[1;32m      2\u001b[0m \u001b[0;34m\u001b[0m\u001b[0m\n\u001b[0;32m----> 3\u001b[0;31m \u001b[0mprint\u001b[0m\u001b[0;34m(\u001b[0m\u001b[0mcal3\u001b[0m\u001b[0;34m.\u001b[0m\u001b[0mAdd\u001b[0m\u001b[0;34m(\u001b[0m\u001b[0;36m100\u001b[0m\u001b[0;34m)\u001b[0m\u001b[0;34m)\u001b[0m\u001b[0;34m\u001b[0m\u001b[0;34m\u001b[0m\u001b[0m\n\u001b[0m",
            "\u001b[0;31mAttributeError\u001b[0m: 'Calculator' object has no attribute 'Add'"
          ]
        }
      ]
    },
    {
      "cell_type": "markdown",
      "source": [
        "## 객체 초기화\n",
        "- __init__메서드: 객체 생성과 동시에 속성값을 지정할 수 있다\n",
        "  + 주로 클래스 선언 시 변수 초기화"
      ],
      "metadata": {
        "id": "pk_KERQLTxB7"
      }
    },
    {
      "cell_type": "code",
      "source": [
        "class Bicycle():\n",
        "\n",
        "  # 변수 초기화\n",
        "  def __init__(self, wheel_size, color):\n",
        "    self.wheel_size = wheel_size\n",
        "    self.color = color\n",
        "\n",
        "  def stop(self):\n",
        "    print('자전거({0}, {1}): 정지'.format(self.wheel_size, self.color))\n"
      ],
      "metadata": {
        "id": "tOmKQfL2VBC-"
      },
      "execution_count": null,
      "outputs": []
    },
    {
      "cell_type": "code",
      "source": [
        "my_bicycle = Bicycle(26, 'black')\n",
        "ur_bicycle = Bicycle(30, 'pink')\n",
        "\n",
        "my_bicycle.stop()\n",
        "ur_bicycle.stop()"
      ],
      "metadata": {
        "colab": {
          "base_uri": "https://localhost:8080/"
        },
        "id": "gYRR7f3ZWNmj",
        "outputId": "92a4b9da-1393-475a-9c7e-0123f02c77f2"
      },
      "execution_count": null,
      "outputs": [
        {
          "output_type": "stream",
          "name": "stdout",
          "text": [
            "자전거(26, black): 정지\n",
            "자전거(30, pink): 정지\n"
          ]
        }
      ]
    },
    {
      "cell_type": "code",
      "source": [],
      "metadata": {
        "id": "3NI7W1ouW3ij"
      },
      "execution_count": null,
      "outputs": []
    }
  ]
}