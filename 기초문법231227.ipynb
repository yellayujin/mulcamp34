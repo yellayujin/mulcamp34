{
  "nbformat": 4,
  "nbformat_minor": 0,
  "metadata": {
    "colab": {
      "provenance": [],
      "authorship_tag": "ABX9TyOMIkrLeFUmywAbn+Mo6IS5",
      "include_colab_link": true
    },
    "kernelspec": {
      "name": "python3",
      "display_name": "Python 3"
    },
    "language_info": {
      "name": "python"
    }
  },
  "cells": [
    {
      "cell_type": "markdown",
      "metadata": {
        "id": "view-in-github",
        "colab_type": "text"
      },
      "source": [
        "<a href=\"https://colab.research.google.com/github/yellayujin/mulcamp34/blob/main/%EA%B8%B0%EC%B4%88%EB%AC%B8%EB%B2%95231227.ipynb\" target=\"_parent\"><img src=\"https://colab.research.google.com/assets/colab-badge.svg\" alt=\"Open In Colab\"/></a>"
      ]
    },
    {
      "cell_type": "code",
      "execution_count": 3,
      "metadata": {
        "colab": {
          "base_uri": "https://localhost:8080/"
        },
        "id": "Cu-gL3ShnwhT",
        "outputId": "f9196465-9344-4cdb-8b33-50db4245530a"
      },
      "outputs": [
        {
          "output_type": "stream",
          "name": "stdout",
          "text": [
            "5.9\n",
            "2.3\n",
            "7.0\n",
            "3.3333333333333335\n",
            "1\n"
          ]
        }
      ],
      "source": [
        "print(3.6 + 2.3)\n",
        "print(7.5 - 5.2)\n",
        "print(3.5 * 2.0)\n",
        "print(10 / 3)\n",
        "print(10 % 3)\n"
      ]
    }
  ]
}